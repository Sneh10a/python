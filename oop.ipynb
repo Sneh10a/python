{
 "cells": [
  {
   "cell_type": "code",
   "execution_count": null,
   "id": "aaf32716",
   "metadata": {},
   "outputs": [],
   "source": [
    "# class <class name>: \n",
    "#     <methods>\n",
    "# ob = <class name>()"
   ]
  },
  {
   "cell_type": "code",
   "execution_count": 5,
   "id": "de966bdf",
   "metadata": {},
   "outputs": [
    {
     "name": "stdout",
     "output_type": "stream",
     "text": [
      "Hellu\n"
     ]
    }
   ],
   "source": [
    "class Hola:             # class\n",
    "    @staticmethod       # when no variable is used\n",
    "    def hello():        # method\n",
    "        print(\"Hellu\")\n",
    "ob = Hola()             # object\n",
    "ob.hello()"
   ]
  },
  {
   "cell_type": "code",
   "execution_count": 6,
   "id": "61caa1ba",
   "metadata": {},
   "outputs": [
    {
     "name": "stdout",
     "output_type": "stream",
     "text": [
      "Hellu\n"
     ]
    }
   ],
   "source": [
    "class Hola:             # class\n",
    "    def hello(self):    # method # when later a variable is used s it is imp to write although you are using other parameter\n",
    "        print(\"Hellu\")\n",
    "ob = Hola()             # object\n",
    "ob.hello()"
   ]
  },
  {
   "cell_type": "code",
   "execution_count": 10,
   "id": "17e8f83c",
   "metadata": {},
   "outputs": [
    {
     "name": "stdout",
     "output_type": "stream",
     "text": [
      "Volume = 320\n",
      "Area = 40\n"
     ]
    }
   ],
   "source": [
    "class Cal:\n",
    "    def volume(s,l,b,h):\n",
    "        v = l*b*h\n",
    "        print(\"Volume =\",v)\n",
    "    def area(s,l,b):\n",
    "        a = l*b\n",
    "        print(\"Area =\",a)\n",
    "ob = Cal()\n",
    "ob.volume(10,4,8)\n",
    "ob.area(10,4)"
   ]
  },
  {
   "cell_type": "code",
   "execution_count": 20,
   "id": "e3f90a16",
   "metadata": {},
   "outputs": [
    {
     "name": "stdout",
     "output_type": "stream",
     "text": [
      "Enter length = 20\n",
      "Enter breadth = 6\n",
      "Enter height = 10\n",
      "Volume = 1200\n",
      "Area = 120\n"
     ]
    }
   ],
   "source": [
    "class Cal:\n",
    "    def __init__(s,l,b,h):\n",
    "        s.len = l\n",
    "        s.br = b\n",
    "        s.h = h\n",
    "    def volume(s):\n",
    "        v = s.len*s.br*s.h\n",
    "        print(\"Volume =\",v)\n",
    "    def area(s):\n",
    "        a = s.len*s.br\n",
    "        print(\"Area =\",a)\n",
    "l = int(input(\"Enter length = \"))\n",
    "b = int(input(\"Enter breadth = \"))\n",
    "h = int(input(\"Enter height = \"))\n",
    "ob = Cal(l,b,h)\n",
    "ob.volume()\n",
    "ob.area()"
   ]
  },
  {
   "cell_type": "code",
   "execution_count": 23,
   "id": "0243b55b",
   "metadata": {},
   "outputs": [
    {
     "name": "stdout",
     "output_type": "stream",
     "text": [
      "Enter length = 20\n",
      "Enter breadth = 30\n",
      "Enter height = 5\n",
      "Volume = 3000\n",
      "Area = 600\n"
     ]
    }
   ],
   "source": [
    "class Vol:\n",
    "    def __init__(s,l,b,h):\n",
    "        s.len = l\n",
    "        s.br = b\n",
    "        s.h = h\n",
    "    def volume(s):\n",
    "        v = s.len*s.br*s.h\n",
    "        print(\"Volume =\",v)\n",
    "class Area:\n",
    "    def __init__(s,l,b):\n",
    "        s.len = l\n",
    "        s.br = b\n",
    "    def area(s):\n",
    "        a = s.len*s.br\n",
    "        print(\"Area =\",a)\n",
    "l = int(input(\"Enter length = \"))\n",
    "b = int(input(\"Enter breadth = \"))\n",
    "h = int(input(\"Enter height = \"))\n",
    "ob = Vol(l,b,h)\n",
    "ob.volume()\n",
    "obj = Area(l,b)\n",
    "obj.area()"
   ]
  },
  {
   "cell_type": "code",
   "execution_count": 1,
   "id": "78c7c6af",
   "metadata": {},
   "outputs": [
    {
     "name": "stdout",
     "output_type": "stream",
     "text": [
      "Lucas\n",
      "<class '__main__.Info'>\n",
      "It is Lucas here\n",
      "Lucas\n",
      "It is Lucas\n"
     ]
    }
   ],
   "source": [
    "class Info:\n",
    "    def __init__(s):\n",
    "        s.n = \"Lucas\"\n",
    "        s.o = \"Surfer\"\n",
    "        s.p = \"Rosie\"\n",
    "    def __str__(s):     # to give a representation to the class\n",
    "        return s.n\n",
    "ob = Info()\n",
    "print(ob)\n",
    "print(type(ob))         # it is not string it is an object\n",
    "print(f\"It is {ob} here\")\n",
    "print(ob.__str__())\n",
    "print(\"It is \"+ str(ob) )"
   ]
  },
  {
   "cell_type": "code",
   "execution_count": 8,
   "id": "454e0355",
   "metadata": {},
   "outputs": [
    {
     "name": "stdout",
     "output_type": "stream",
     "text": [
      "500, 240\n"
     ]
    }
   ],
   "source": [
    "class Point:\n",
    "    def __init__(s,x,y):\n",
    "        s.x = x\n",
    "        s.y = y\n",
    "    def __str__(s):\n",
    "        return (f\"{s.x}, {s.y}\")\n",
    "    def __add__(s,o):\n",
    "        x = s.x + o.x\n",
    "        y = s.y + o.y \n",
    "        return Point(x,y)\n",
    "p1 = Point(200, 150)\n",
    "p2 = Point(300, 90)\n",
    "print(p1+p2)"
   ]
  },
  {
   "cell_type": "code",
   "execution_count": 12,
   "id": "ab12d0a3",
   "metadata": {},
   "outputs": [
    {
     "name": "stdout",
     "output_type": "stream",
     "text": [
      "init - 200\n",
      "init - 300\n",
      "add - 500\n",
      "init - 500\n",
      "str - 500\n",
      "500\n"
     ]
    }
   ],
   "source": [
    "class Point:\n",
    "    def __init__(s,x):\n",
    "        s.x = x\n",
    "        print(\"init -\" , s.x)\n",
    "    def __str__(s):\n",
    "        print(\"str -\" , s.x)\n",
    "        return (f\"{s.x}\")\n",
    "    def __add__(s,o):\n",
    "        x = s.x + o.x\n",
    "        print (\"add -\" , x)\n",
    "        return Point(x)\n",
    "p1 = Point(200)\n",
    "p2 = Point(300)\n",
    "print(p1+p2)"
   ]
  },
  {
   "cell_type": "code",
   "execution_count": 11,
   "id": "290fd5da",
   "metadata": {},
   "outputs": [
    {
     "name": "stdout",
     "output_type": "stream",
     "text": [
      "900, 290\n"
     ]
    }
   ],
   "source": [
    "class Point:\n",
    "    def __init__(s,x,y):\n",
    "        s.x = x\n",
    "        s.y = y\n",
    "    def __str__(s):\n",
    "        return (f\"{s.x}, {s.y}\")\n",
    "    def __add__(s,o):\n",
    "        x = s.x + o.x\n",
    "        y = s.y + o.y \n",
    "        return Point(x,y)\n",
    "p1 = Point(200, 150)\n",
    "p2 = Point(300, 90)\n",
    "p3 = Point(400, 50)\n",
    "print(p1+p2+p3)"
   ]
  },
  {
   "cell_type": "code",
   "execution_count": 2,
   "id": "20399d11",
   "metadata": {},
   "outputs": [
    {
     "name": "stdout",
     "output_type": "stream",
     "text": [
      "Parrots can fly\n",
      "Penguins cannot fly\n"
     ]
    }
   ],
   "source": [
    "# polymorphism\n",
    "class parrot:\n",
    "    def fly(s):\n",
    "        print (\"Parrots can fly\")\n",
    "    def swim(s):\n",
    "        print (\"Parrots cannot swim\")\n",
    "class penguin:\n",
    "    def fly(s):\n",
    "        print (\"Penguins cannot fly\")\n",
    "    def swim(s):\n",
    "        print (\"Penguins can swim\")\n",
    "#common interface\n",
    "def flying(bird):\n",
    "    bird.fly()\n",
    "#initiating object\n",
    "par = parrot()\n",
    "pen = penguin()\n",
    "#passinf object\n",
    "flying(par)\n",
    "flying(pen)"
   ]
  },
  {
   "cell_type": "code",
   "execution_count": null,
   "id": "b6a18b15",
   "metadata": {},
   "outputs": [],
   "source": []
  },
  {
   "cell_type": "code",
   "execution_count": null,
   "id": "09fdaaa4",
   "metadata": {},
   "outputs": [],
   "source": []
  }
 ],
 "metadata": {
  "kernelspec": {
   "display_name": "Python 3 (ipykernel)",
   "language": "python",
   "name": "python3"
  },
  "language_info": {
   "codemirror_mode": {
    "name": "ipython",
    "version": 3
   },
   "file_extension": ".py",
   "mimetype": "text/x-python",
   "name": "python",
   "nbconvert_exporter": "python",
   "pygments_lexer": "ipython3",
   "version": "3.10.9"
  }
 },
 "nbformat": 4,
 "nbformat_minor": 5
}
