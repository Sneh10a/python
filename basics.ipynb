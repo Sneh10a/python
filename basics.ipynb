{
 "cells": [
  {
   "cell_type": "code",
   "execution_count": 9,
   "id": "5c2c4f33",
   "metadata": {
    "scrolled": true
   },
   "outputs": [
    {
     "name": "stdout",
     "output_type": "stream",
     "text": [
      "10 0.5 Hola True 3 6\n",
      "10\n",
      "0.5\n"
     ]
    }
   ],
   "source": [
    "a = 10           #int\n",
    "b = 0.5          #float\n",
    "c = 'Hola'       #string\n",
    "d = True         #boolean\n",
    "x,y = 3,6\n",
    "# variables can have (_) but not other characters and spaces\n",
    "print (a,b,c,d,x,y)  \n",
    "print (a)\n",
    "print (b)"
   ]
  },
  {
   "cell_type": "code",
   "execution_count": 47,
   "id": "c326067b",
   "metadata": {},
   "outputs": [
    {
     "name": "stdout",
     "output_type": "stream",
     "text": [
      "<class 'str'>\n",
      "<class 'float'>\n"
     ]
    },
    {
     "data": {
      "text/plain": [
       "bool"
      ]
     },
     "execution_count": 47,
     "metadata": {},
     "output_type": "execute_result"
    }
   ],
   "source": [
    "print (type(a))\n",
    "print (type(b))\n",
    "(type(c))\n",
    "(type(d))"
   ]
  },
  {
   "cell_type": "code",
   "execution_count": 1,
   "id": "76e5bb4f",
   "metadata": {},
   "outputs": [
    {
     "name": "stdout",
     "output_type": "stream",
     "text": [
      "12@54'\n",
      "12@#78\"\"\n"
     ]
    },
    {
     "data": {
      "text/plain": [
       "str"
      ]
     },
     "execution_count": 1,
     "metadata": {},
     "output_type": "execute_result"
    }
   ],
   "source": [
    "e ='12'\n",
    "f = \"12@54'\"\n",
    "g = '''12@#78\"\"'''\n",
    "print (f)\n",
    "print (g)\n",
    "type  (e)"
   ]
  },
  {
   "cell_type": "code",
   "execution_count": 49,
   "id": "52dc4094",
   "metadata": {},
   "outputs": [
    {
     "name": "stdout",
     "output_type": "stream",
     "text": [
      "13 3.3333333333333335\n"
     ]
    }
   ],
   "source": [
    "#operators are + - * / ** // %\n",
    "h = 3\n",
    "i = 10\n",
    "j = h+i\n",
    "k = i/h\n",
    "print(j,k)"
   ]
  },
  {
   "cell_type": "code",
   "execution_count": 50,
   "id": "51ffe8b5",
   "metadata": {},
   "outputs": [
    {
     "name": "stdout",
     "output_type": "stream",
     "text": [
      "1000\n",
      "3\n",
      "1\n"
     ]
    }
   ],
   "source": [
    "l = i**h # power\n",
    "print(l)\n",
    "m = i//h #floar division i.e. it does not give the decimal\n",
    "print(m)\n",
    "n = i%h #gives remainder\n",
    "print(n)"
   ]
  },
  {
   "cell_type": "code",
   "execution_count": 38,
   "id": "449ab7cc",
   "metadata": {},
   "outputs": [
    {
     "name": "stdout",
     "output_type": "stream",
     "text": [
      "hellohola\n",
      "helloholahellohola\n",
      "ron\n",
      "ron\n",
      "\n"
     ]
    }
   ],
   "source": [
    "#string\n",
    "o = \"hello\"\n",
    "p = \"hola\"\n",
    "q = o+p\n",
    "print(q)\n",
    "print(q*2)\n",
    "r = \"ron\\n\" # is for next line\n",
    "print(r*2)"
   ]
  },
  {
   "cell_type": "code",
   "execution_count": 45,
   "id": "a7f3117f",
   "metadata": {},
   "outputs": [
    {
     "name": "stdout",
     "output_type": "stream",
     "text": [
      "I am sneha\n"
     ]
    }
   ],
   "source": [
    "nam = \"sneha\"\n",
    "intr= \"I am \"+nam\n",
    "print (intr)"
   ]
  },
  {
   "cell_type": "code",
   "execution_count": 16,
   "id": "37ebf372",
   "metadata": {},
   "outputs": [
    {
     "data": {
      "text/plain": [
       "complex"
      ]
     },
     "execution_count": 16,
     "metadata": {},
     "output_type": "execute_result"
    }
   ],
   "source": [
    "#complex no (+ - * /)\n",
    "com = 2+3j #here j is the complex no- j= (-1)**(1/2)\n",
    "type(com)"
   ]
  },
  {
   "cell_type": "code",
   "execution_count": 27,
   "id": "c84ed933",
   "metadata": {},
   "outputs": [],
   "source": [
    "#type casting\n",
    "# int() str() float() bool()"
   ]
  },
  {
   "cell_type": "code",
   "execution_count": 25,
   "id": "341b5d2e",
   "metadata": {},
   "outputs": [
    {
     "name": "stdout",
     "output_type": "stream",
     "text": [
      "10\n",
      "<class 'int'>\n"
     ]
    }
   ],
   "source": [
    "#str to int\n",
    "St = \"10\"\n",
    "In = int(St)\n",
    "print(In)\n",
    "print (type(In))"
   ]
  },
  {
   "cell_type": "code",
   "execution_count": 26,
   "id": "3771f62a",
   "metadata": {},
   "outputs": [
    {
     "name": "stdout",
     "output_type": "stream",
     "text": [
      "<class 'str'>\n"
     ]
    }
   ],
   "source": [
    "# float to str\n",
    "Fl = 10.6\n",
    "Str = str(Fl)\n",
    "print (type(Str))"
   ]
  },
  {
   "cell_type": "code",
   "execution_count": 32,
   "id": "94d13c92",
   "metadata": {},
   "outputs": [
    {
     "name": "stdout",
     "output_type": "stream",
     "text": [
      "True\n",
      "False\n"
     ]
    }
   ],
   "source": [
    "# int to bool\n",
    "I1 = 1\n",
    "I2 = 0 #only 0 gives false other very value gives true\n",
    "print(bool(I1))\n",
    "print(bool(I2))"
   ]
  },
  {
   "cell_type": "code",
   "execution_count": 33,
   "id": "80d6d5db",
   "metadata": {},
   "outputs": [
    {
     "name": "stdout",
     "output_type": "stream",
     "text": [
      "True\n",
      "False\n"
     ]
    }
   ],
   "source": [
    "# str to bool\n",
    "S1 = \"hi\"\n",
    "S2 = \"\"\n",
    "print(bool(S1))\n",
    "print(bool(S2))"
   ]
  },
  {
   "cell_type": "code",
   "execution_count": 43,
   "id": "1de9694b",
   "metadata": {},
   "outputs": [
    {
     "name": "stdout",
     "output_type": "stream",
     "text": [
      "enter 567\n",
      "567\n",
      "<class 'str'>\n",
      "enter 7678\n",
      "7678\n",
      "<class 'int'>\n"
     ]
    }
   ],
   "source": [
    "# basic IO operation\n",
    "# input always takes in str unless defined\n",
    "inp = input(\"enter \") # or just input()\n",
    "print (inp)\n",
    "print (type (inp))\n",
    "inu = int(input(\"enter \"))\n",
    "print (inu)\n",
    "print (type (inu))"
   ]
  },
  {
   "cell_type": "code",
   "execution_count": 8,
   "id": "2d27f346",
   "metadata": {},
   "outputs": [
    {
     "name": "stdout",
     "output_type": "stream",
     "text": [
      "Enter name Sneha \n",
      "Enter age 17\n",
      "Enter address Dhalko\n",
      "I am Sneha . I am 17 years old. I live in Dhalko.\n"
     ]
    }
   ],
   "source": [
    "name = input(\"Enter name \")\n",
    "age = int(input(\"Enter age \"))\n",
    "add = input(\"Enter address \")\n",
    "inf = \"I am \" + name + \". I am \" + str(age) + \" years old. I live in \" + add +\".\"\n",
    "print(inf)"
   ]
  },
  {
   "cell_type": "code",
   "execution_count": 4,
   "id": "abf6fd7d",
   "metadata": {},
   "outputs": [
    {
     "name": "stdout",
     "output_type": "stream",
     "text": [
      "Enter principal value400\n",
      "Enter the time30\n",
      "eanter the rate50\n",
      "The intrest amount is 6000.0\n"
     ]
    }
   ],
   "source": [
    "pv = int(input(\"Enter principal value\"))\n",
    "tim = float (input(\"Enter the time\"))\n",
    "ra = float (input(\"eanter the rate\"))\n",
    "itr = pv*tim*ra/100\n",
    "print (\"The intrest amount is \"+str(itr))"
   ]
  },
  {
   "cell_type": "code",
   "execution_count": null,
   "id": "3d7156d8",
   "metadata": {},
   "outputs": [],
   "source": []
  }
 ],
 "metadata": {
  "kernelspec": {
   "display_name": "Python 3 (ipykernel)",
   "language": "python",
   "name": "python3"
  },
  "language_info": {
   "codemirror_mode": {
    "name": "ipython",
    "version": 3
   },
   "file_extension": ".py",
   "mimetype": "text/x-python",
   "name": "python",
   "nbconvert_exporter": "python",
   "pygments_lexer": "ipython3",
   "version": "3.10.9"
  }
 },
 "nbformat": 4,
 "nbformat_minor": 5
}
