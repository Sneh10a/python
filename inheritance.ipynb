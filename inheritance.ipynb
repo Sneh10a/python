{
 "cells": [
  {
   "cell_type": "code",
   "execution_count": 1,
   "id": "243fb1fb",
   "metadata": {},
   "outputs": [],
   "source": [
    "class A:\n",
    "    pass\n",
    "class B(A):\n",
    "    pass\n",
    "ob = B()"
   ]
  },
  {
   "cell_type": "code",
   "execution_count": 4,
   "id": "aea489f1",
   "metadata": {},
   "outputs": [
    {
     "name": "stdout",
     "output_type": "stream",
     "text": [
      "Enter the Name - Declan\n",
      "Enter the Address - Chicago\n",
      "Declan Chicago\n",
      "Hello Everyone! It is Declan.\n"
     ]
    }
   ],
   "source": [
    "class Data:\n",
    "    def __init__(s):\n",
    "        s.n = input(\"Enter the Name - \")\n",
    "        s.a = input(\"Enter the Address - \")\n",
    "    def data(s):\n",
    "        print(s.n , s.a)\n",
    "class Info(Data):\n",
    "    def info(s):\n",
    "        print(f\"Hello Everyone! It is {s.n}.\")\n",
    "ob = Info()\n",
    "ob.data()\n",
    "ob.info()"
   ]
  },
  {
   "cell_type": "code",
   "execution_count": 5,
   "id": "851db92b",
   "metadata": {},
   "outputs": [
    {
     "name": "stdout",
     "output_type": "stream",
     "text": [
      "Enter the Name - Iris\n",
      "Enter the Address - Chicago\n",
      "Iris Chicago\n",
      "Hello Everyone! It is Iris.\n"
     ]
    }
   ],
   "source": [
    "class Data:\n",
    "    def __init__(s,n,a):\n",
    "        s.n = n\n",
    "        s.a = a\n",
    "    def data(s):\n",
    "        print(s.n , s.a)\n",
    "class Info(Data):\n",
    "    def info(s):\n",
    "        print(f\"Hello Everyone! It is {s.n}.\")\n",
    "n = input(\"Enter the Name - \")\n",
    "a = input(\"Enter the Address - \")\n",
    "ob = Info(n,a)\n",
    "ob.data()\n",
    "ob.info()"
   ]
  },
  {
   "cell_type": "code",
   "execution_count": 8,
   "id": "1b1328b0",
   "metadata": {},
   "outputs": [
    {
     "name": "stdout",
     "output_type": "stream",
     "text": [
      "Enter the Name - Cal\n",
      "Enter the Address - Chicago\n",
      "Cal Chicago\n",
      "Hello Everyone! It is Cal from Chicago.\n"
     ]
    }
   ],
   "source": [
    "class Data:\n",
    "    def __init__(s,a):\n",
    "        s.a = a\n",
    "    def data(s):\n",
    "        print(s.n , s.a)\n",
    "class Info(Data):\n",
    "    def __init__(s,n,a):\n",
    "        s.n = n\n",
    "        Data.__init__(s,a)        #calling from super class        \n",
    "    def info(s):\n",
    "        print(f\"Hello Everyone! It is {s.n} from {s.a}.\")\n",
    "n = input(\"Enter the Name - \")\n",
    "a = input(\"Enter the Address - \")\n",
    "ob = Info(n,a)\n",
    "ob.data()\n",
    "ob.info()"
   ]
  },
  {
   "cell_type": "code",
   "execution_count": 11,
   "id": "29e0d6b1",
   "metadata": {},
   "outputs": [],
   "source": [
    "# multilevel inheritance\n",
    "class A:\n",
    "    pass\n",
    "class B(A):\n",
    "    pass\n",
    "class C(B):\n",
    "    pass\n",
    "ob = C()"
   ]
  },
  {
   "cell_type": "code",
   "execution_count": 12,
   "id": "4891b229",
   "metadata": {},
   "outputs": [],
   "source": [
    "#Multiple inheritance\n",
    "class A:\n",
    "    pass\n",
    "class B:\n",
    "    pass\n",
    "class C(A,B):\n",
    "    pass\n",
    "ob = C()"
   ]
  },
  {
   "cell_type": "code",
   "execution_count": 15,
   "id": "01312032",
   "metadata": {},
   "outputs": [
    {
     "name": "stdout",
     "output_type": "stream",
     "text": [
      "Enter the Name - Iris\n",
      "Enter the Address - Chicago\n",
      "Enter the Occupation - Assisstant\n",
      "Iris Chicago Assisstant\n",
      "Hello Everyone! It is Iris from Chicago. I am the Assisstant.\n"
     ]
    }
   ],
   "source": [
    "class Occ:\n",
    "    def __init__(s,o):    \n",
    "        s.o = o\n",
    "class Data(Occ):\n",
    "    def __init__(s,a,o):\n",
    "        s.a = a\n",
    "        Occ.__init__(s,o)\n",
    "    def data(s):\n",
    "        print(s.n , s.a , s.o)\n",
    "class Info(Data):\n",
    "    def __init__(s,n,a,o):\n",
    "        s.n = n\n",
    "        Data.__init__(s,a,o)   \n",
    "    def info(s):\n",
    "        print(f\"Hello Everyone! It is {s.n} from {s.a}. I am the {s.o}.\")\n",
    "n = input(\"Enter the Name - \")\n",
    "a = input(\"Enter the Address - \")\n",
    "o = input(\"Enter the Occupation - \")\n",
    "ob = Info(n,a,o)\n",
    "ob.data()\n",
    "ob.info()"
   ]
  },
  {
   "cell_type": "code",
   "execution_count": 18,
   "id": "4d2e5074",
   "metadata": {},
   "outputs": [
    {
     "name": "stdout",
     "output_type": "stream",
     "text": [
      "Enter the Name - Nathan\n",
      "Enter the Address - LA\n",
      "Enter the Occupation - Quterback\n",
      "Nathan LA\n",
      "Hello Everyone! It is Nathan from LA. I am the Quterback.\n"
     ]
    }
   ],
   "source": [
    "class Occ:\n",
    "    def __init__(s,o):    \n",
    "        s.o = o\n",
    "class Data:\n",
    "    def __init__(s,a):\n",
    "        s.a = a\n",
    "    def data(s):\n",
    "        print(s.n , s.a)\n",
    "class Info(Data , Occ):\n",
    "    def __init__(s,n,a,o):\n",
    "        s.n = n\n",
    "        Data.__init__(s,a)  \n",
    "        Occ.__init__(s,o)\n",
    "    def info(s):\n",
    "        print(f\"Hello Everyone! It is {s.n} from {s.a}. I am the {s.o}.\")\n",
    "n = input(\"Enter the Name - \")\n",
    "a = input(\"Enter the Address - \")\n",
    "o = input(\"Enter the Occupation - \")\n",
    "ob = Info(n,a,o)\n",
    "ob.data()\n",
    "ob.info()"
   ]
  },
  {
   "cell_type": "code",
   "execution_count": null,
   "id": "22c1b2f7",
   "metadata": {},
   "outputs": [],
   "source": [
    "# private , protected, public"
   ]
  },
  {
   "cell_type": "code",
   "execution_count": 2,
   "id": "b6a7cf2b",
   "metadata": {},
   "outputs": [
    {
     "name": "stdout",
     "output_type": "stream",
     "text": [
      "Enter name - Abhi\n",
      "Enter age - 10\n",
      "Abhi 10\n"
     ]
    }
   ],
   "source": [
    "# public\n",
    "class Info:\n",
    "    def __init__(s):\n",
    "        s.n = input(\"Enter name - \")\n",
    "        s.a = input(\"Enter age - \")\n",
    "ob = Info()\n",
    "print(ob.n , ob.a)"
   ]
  },
  {
   "cell_type": "code",
   "execution_count": 3,
   "id": "910083c8",
   "metadata": {},
   "outputs": [
    {
     "name": "stdout",
     "output_type": "stream",
     "text": [
      "Enter name - Theo\n",
      "Enter age - 16\n",
      "Theo 16\n"
     ]
    }
   ],
   "source": [
    "# protected (use one _)\n",
    "class Info:\n",
    "    def __init__(s):\n",
    "        s._n = input(\"Enter name - \")\n",
    "        s._a = input(\"Enter age - \")\n",
    "ob = Info()\n",
    "print(ob._n , ob._a)"
   ]
  },
  {
   "cell_type": "code",
   "execution_count": 4,
   "id": "014e957e",
   "metadata": {},
   "outputs": [
    {
     "name": "stdout",
     "output_type": "stream",
     "text": [
      "Enter name - Sneha\n",
      "Enter age - 17\n"
     ]
    },
    {
     "ename": "AttributeError",
     "evalue": "'Info' object has no attribute '__n'",
     "output_type": "error",
     "traceback": [
      "\u001b[1;31m---------------------------------------------------------------------------\u001b[0m",
      "\u001b[1;31mAttributeError\u001b[0m                            Traceback (most recent call last)",
      "Cell \u001b[1;32mIn[4], line 7\u001b[0m\n\u001b[0;32m      5\u001b[0m         s\u001b[38;5;241m.\u001b[39m__a \u001b[38;5;241m=\u001b[39m \u001b[38;5;28minput\u001b[39m(\u001b[38;5;124m\"\u001b[39m\u001b[38;5;124mEnter age - \u001b[39m\u001b[38;5;124m\"\u001b[39m)\n\u001b[0;32m      6\u001b[0m ob \u001b[38;5;241m=\u001b[39m Info()\n\u001b[1;32m----> 7\u001b[0m \u001b[38;5;28mprint\u001b[39m(\u001b[43mob\u001b[49m\u001b[38;5;241;43m.\u001b[39;49m\u001b[43m__n\u001b[49m , ob\u001b[38;5;241m.\u001b[39m__a)\n",
      "\u001b[1;31mAttributeError\u001b[0m: 'Info' object has no attribute '__n'"
     ]
    }
   ],
   "source": [
    "# private (use two__)\n",
    "class Info:\n",
    "    def __init__(s):\n",
    "        s.__n = input(\"Enter name - \")\n",
    "        s.__a = input(\"Enter age - \")\n",
    "ob = Info()\n",
    "print(ob.__n , ob.__a)"
   ]
  },
  {
   "cell_type": "code",
   "execution_count": 9,
   "id": "c30d9336",
   "metadata": {},
   "outputs": [
    {
     "name": "stdout",
     "output_type": "stream",
     "text": [
      "Enter name - Bridget\n",
      "Enter age - 25\n",
      "Bridget 25\n"
     ]
    }
   ],
   "source": [
    "class Info:\n",
    "    def __init__(s):\n",
    "        s.__n = input(\"Enter name - \")\n",
    "        s.__a = input(\"Enter age - \")\n",
    "ob = Info()\n",
    "print(ob._Info__n , ob._Info__a)"
   ]
  },
  {
   "cell_type": "code",
   "execution_count": 10,
   "id": "74833568",
   "metadata": {},
   "outputs": [
    {
     "name": "stdout",
     "output_type": "stream",
     "text": [
      "Enter the Name - rhys\n",
      "Enter the Age - 30\n",
      "Enter the address - Costa Rica\n",
      "rhys 30 Costa Rica\n",
      "rhys 30 Costa Rica\n",
      "rhys 30\n"
     ]
    }
   ],
   "source": [
    "class Data:\n",
    "    def __init__(s,n,a,ad):\n",
    "        s.n = n\n",
    "        s._a = a\n",
    "        s.__ad = ad\n",
    "    def data(s):\n",
    "        print(s.n , s._a, s.__ad)\n",
    "class Info(Data):\n",
    "    def info(s):\n",
    "        print(s.n , s._a , s._Data__ad)\n",
    "n = input(\"Enter the Name - \")\n",
    "a = input(\"Enter the Age - \")\n",
    "ad = input(\"Enter the address - \")\n",
    "ob = Info(n,a,ad)\n",
    "ob.data()\n",
    "ob.info()\n",
    "print(ob.n , ob._a)"
   ]
  },
  {
   "cell_type": "code",
   "execution_count": 11,
   "id": "64e294b0",
   "metadata": {},
   "outputs": [
    {
     "name": "stdout",
     "output_type": "stream",
     "text": [
      "Enter the Name - Rowan\n",
      "Enter the Age - 25\n",
      "Enter the address - New york\n",
      "Rowan 25\n",
      "Rowan 25 New york\n"
     ]
    }
   ],
   "source": [
    "class Data:\n",
    "    def __init__(s,n,a,ad):\n",
    "        s.n = n\n",
    "        s._a = a\n",
    "        s.__ad = ad\n",
    "    def data(s):\n",
    "        print(s.n , s._a)\n",
    "    def myadd(s):\n",
    "        return s.__ad\n",
    "class Info(Data):\n",
    "    def info(s):\n",
    "        print(s.n , s._a , super().myadd())\n",
    "n = input(\"Enter the Name - \")\n",
    "a = input(\"Enter the Age - \")\n",
    "ad = input(\"Enter the address - \")\n",
    "ob = Info(n,a,ad)\n",
    "ob.data()\n",
    "ob.info()"
   ]
  },
  {
   "cell_type": "code",
   "execution_count": null,
   "id": "9ce472e5",
   "metadata": {},
   "outputs": [],
   "source": []
  },
  {
   "cell_type": "code",
   "execution_count": null,
   "id": "132249e9",
   "metadata": {},
   "outputs": [],
   "source": []
  },
  {
   "cell_type": "code",
   "execution_count": null,
   "id": "783d65fe",
   "metadata": {},
   "outputs": [],
   "source": []
  },
  {
   "cell_type": "code",
   "execution_count": null,
   "id": "9accc9fb",
   "metadata": {},
   "outputs": [],
   "source": []
  }
 ],
 "metadata": {
  "kernelspec": {
   "display_name": "Python 3 (ipykernel)",
   "language": "python",
   "name": "python3"
  },
  "language_info": {
   "codemirror_mode": {
    "name": "ipython",
    "version": 3
   },
   "file_extension": ".py",
   "mimetype": "text/x-python",
   "name": "python",
   "nbconvert_exporter": "python",
   "pygments_lexer": "ipython3",
   "version": "3.10.9"
  }
 },
 "nbformat": 4,
 "nbformat_minor": 5
}
