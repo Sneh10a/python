{
 "cells": [
  {
   "cell_type": "code",
   "execution_count": null,
   "id": "30c390ae",
   "metadata": {},
   "outputs": [],
   "source": [
    "# funcion\n",
    "# pre-defined\n",
    "# user-defined"
   ]
  },
  {
   "cell_type": "code",
   "execution_count": 2,
   "id": "0ce7d0e3",
   "metadata": {},
   "outputs": [],
   "source": [
    "# pre-defined\n",
    "# print() int() float() str() list() tuple() dict() set() etc"
   ]
  },
  {
   "cell_type": "code",
   "execution_count": null,
   "id": "1720458a",
   "metadata": {},
   "outputs": [],
   "source": [
    "# user defined\n",
    "def <function_name>(): # defining function\n",
    "    <operation>\n",
    "<function_name>()      # calling function"
   ]
  },
  {
   "cell_type": "code",
   "execution_count": 6,
   "id": "bb80e0cc",
   "metadata": {},
   "outputs": [
    {
     "name": "stdout",
     "output_type": "stream",
     "text": [
      "Hello everyone\n"
     ]
    }
   ],
   "source": [
    "def hello():\n",
    "    print (\"Hello everyone\")\n",
    "\n",
    "hello()"
   ]
  },
  {
   "cell_type": "code",
   "execution_count": 10,
   "id": "657013ff",
   "metadata": {},
   "outputs": [
    {
     "name": "stdout",
     "output_type": "stream",
     "text": [
      "Enter the length - 2\n",
      "Enter the breadth - 7\n",
      "Enter the height - 8\n",
      "The volume =  112\n",
      "112\n"
     ]
    }
   ],
   "source": [
    "def volume():\n",
    "    l = int(input(\"Enter the length - \"))  #local variable\n",
    "    b = int(input(\"Enter the breadth - \")) #local variable\n",
    "    h = int(input(\"Enter the height - \"))  #local variable\n",
    "    global v                               #global variable     \n",
    "    v = l*b*h \n",
    "    print(\"The volume = \" , v)\n",
    "volume()\n",
    "print(v)"
   ]
  },
  {
   "cell_type": "code",
   "execution_count": null,
   "id": "7827a867",
   "metadata": {},
   "outputs": [],
   "source": [
    "# function without arguments and no return type \n",
    "# function with arguments and no return type \n",
    "# function without arguments and return type\n",
    "# function with arguments and return type"
   ]
  },
  {
   "cell_type": "code",
   "execution_count": 13,
   "id": "b0d4b822",
   "metadata": {},
   "outputs": [
    {
     "name": "stdout",
     "output_type": "stream",
     "text": [
      "Hello\n"
     ]
    }
   ],
   "source": [
    "# function with arguments and no return type\n",
    "def hola(x):    # x is parameter\n",
    "    print(x)\n",
    "hola(\"Hello\")   # \"Hello\" is the argument"
   ]
  },
  {
   "cell_type": "code",
   "execution_count": 14,
   "id": "98bf9e32",
   "metadata": {},
   "outputs": [
    {
     "name": "stdout",
     "output_type": "stream",
     "text": [
      "Enter the length - 5\n",
      "Enter the breadth - 2\n",
      "Enter the height - 3\n",
      "The volume =  30\n"
     ]
    }
   ],
   "source": [
    "def volume(l,b,h):                                \n",
    "    v = l*b*h \n",
    "    print(\"The volume = \" , v)\n",
    "    \n",
    "len = int(input(\"Enter the length - \"))  \n",
    "bre = int(input(\"Enter the breadth - \")) \n",
    "hei = int(input(\"Enter the height - \")) \n",
    "\n",
    "volume(len,bre,hei)"
   ]
  },
  {
   "cell_type": "code",
   "execution_count": 18,
   "id": "42480eeb",
   "metadata": {},
   "outputs": [
    {
     "name": "stdout",
     "output_type": "stream",
     "text": [
      "Enter the length - 2\n",
      "Enter the breadth - 3\n",
      "Enter the height - 5\n",
      "The area =  6\n",
      "The volume =  30\n"
     ]
    }
   ],
   "source": [
    "def area(x,y):\n",
    "    a = x*y\n",
    "    print(\"The area = \",a)\n",
    "    \n",
    "def volume(l,b,h):                                \n",
    "    v = l*b*h \n",
    "    print(\"The volume = \" , v)\n",
    "    \n",
    "len = int(input(\"Enter the length - \"))  \n",
    "bre = int(input(\"Enter the breadth - \")) \n",
    "hei = int(input(\"Enter the height - \"))  \n",
    "\n",
    "area(len,bre)\n",
    "volume(len,bre,hei)"
   ]
  },
  {
   "cell_type": "code",
   "execution_count": 29,
   "id": "76c2469b",
   "metadata": {},
   "outputs": [
    {
     "data": {
      "text/plain": [
       "'Hellu guys'"
      ]
     },
     "execution_count": 29,
     "metadata": {},
     "output_type": "execute_result"
    }
   ],
   "source": [
    "# Return type function\n",
    "def hello():\n",
    "    return \"Hellu guys\"\n",
    "hello()"
   ]
  },
  {
   "cell_type": "code",
   "execution_count": 6,
   "id": "6a42c671",
   "metadata": {},
   "outputs": [
    {
     "name": "stdout",
     "output_type": "stream",
     "text": [
      "Enter a value 3\n",
      "Enter a value 5\n",
      "Enter a operator (+ - * /) /\n",
      "0.6\n"
     ]
    }
   ],
   "source": [
    "def add (x,y):\n",
    "    return (x+y)\n",
    "def dif (x,y):\n",
    "    return (x-y)\n",
    "def mul (x,y):\n",
    "    return (x*Y)\n",
    "def div (x,y):\n",
    "    return (x/y)\n",
    "\n",
    "def cal(n1,n2,o):\n",
    "    if o== \"+\":\n",
    "        print (add(n1,n2))\n",
    "    elif o== \"-\":\n",
    "        print (dif(n1,n2))\n",
    "    elif o==\"*\":\n",
    "        print (mul(n1,n2))\n",
    "    elif (o==\"/\") & (n2!=0):\n",
    "        print (div(n1,n2))\n",
    "    else:\n",
    "        print(\"Invalid input\")\n",
    "        \n",
    "n1 = int(input(\"Enter a value \"))\n",
    "n2 = int(input(\"Enter a value \"))\n",
    "o = str(input(\"Enter a operator (+ - * /) \"))\n",
    "cal(n1,n2,o)"
   ]
  },
  {
   "cell_type": "code",
   "execution_count": 10,
   "id": "9079cbf1",
   "metadata": {},
   "outputs": [
    {
     "name": "stdout",
     "output_type": "stream",
     "text": [
      "Hello\n",
      "Enter -  \n",
      "Hello\n",
      "Enter - 4\n",
      "Hello\n",
      "Enter - 5\n",
      "Hello\n",
      "Enter - fsd\n",
      "Hello\n",
      "Enter - \n"
     ]
    }
   ],
   "source": [
    "# recursion\n",
    "def hello():\n",
    "    print(\"Hello\")\n",
    "    x = input(\"Enter - \")\n",
    "    if x !=\"\":\n",
    "        hello()\n",
    "hello()"
   ]
  },
  {
   "cell_type": "code",
   "execution_count": 18,
   "id": "fee4d856",
   "metadata": {},
   "outputs": [
    {
     "name": "stdout",
     "output_type": "stream",
     "text": [
      "16\n",
      "True\n",
      "8\n"
     ]
    }
   ],
   "source": [
    "# lambda function\n",
    "# lambda <argument>:<expresstion or operation>\n",
    "sq = lambda x:x**2\n",
    "print(sq(4))\n",
    "y = lambda x:(x%2==0)\n",
    "print(y(6))\n",
    "a = lambda l,b:(l*b)\n",
    "print(a(2,4))"
   ]
  },
  {
   "cell_type": "code",
   "execution_count": 21,
   "id": "441a6bb6",
   "metadata": {},
   "outputs": [
    {
     "data": {
      "text/plain": [
       "[34, 4]"
      ]
     },
     "execution_count": 21,
     "metadata": {},
     "output_type": "execute_result"
    }
   ],
   "source": [
    "# filter function\n",
    "# list (filter (lambda <argument>:<expresstion , list))\n",
    "l = [67,89,93,34,2345,65,4]\n",
    "list(filter(lambda x:x%2==0,l))"
   ]
  },
  {
   "cell_type": "code",
   "execution_count": 24,
   "id": "48f72088",
   "metadata": {},
   "outputs": [
    {
     "data": {
      "text/plain": [
       "['OLIVE', 'BIO']"
      ]
     },
     "execution_count": 24,
     "metadata": {},
     "output_type": "execute_result"
    }
   ],
   "source": [
    "s = [\"Pumkin\",\"OLIVE\",\"adam\",\"BIO\"]\n",
    "list(filter(lambda x:x.isupper(),s))"
   ]
  },
  {
   "cell_type": "code",
   "execution_count": 27,
   "id": "d7dbed6d",
   "metadata": {},
   "outputs": [
    {
     "data": {
      "text/plain": [
       "['oLIVE', 'adam', 'hypothesis']"
      ]
     },
     "execution_count": 27,
     "metadata": {},
     "output_type": "execute_result"
    }
   ],
   "source": [
    "s = [\"Pumkin\",\"oLIVE\",\"adam\",\"BIO\",\"hypothesis\",\"Fake\",\"Sudden\"]\n",
    "list(filter(lambda x:x[0].islower(),s))"
   ]
  },
  {
   "cell_type": "code",
   "execution_count": 29,
   "id": "bf804c46",
   "metadata": {},
   "outputs": [
    {
     "data": {
      "text/plain": [
       "[2200, 6600, 77000, 8800, 1100000]"
      ]
     },
     "execution_count": 29,
     "metadata": {},
     "output_type": "execute_result"
    }
   ],
   "source": [
    "# map function\n",
    "# list (map (lambda <argument>:<expresstion , list))\n",
    "sal = [2000,6000,70000,8000,1000000]\n",
    "list(map(lambda i:int(i*1.1),sal))"
   ]
  },
  {
   "cell_type": "code",
   "execution_count": 33,
   "id": "2a990c12",
   "metadata": {},
   "outputs": [
    {
     "name": "stdout",
     "output_type": "stream",
     "text": [
      "['pumkin', 'olive', 'adam', 'bio', 'hypothesis', 'fake', 'sudden']\n"
     ]
    }
   ],
   "source": [
    "s = [\"Pumkin\",\"oLIVE\",\"adam\",\"BIO\",\"hypothesis\",\"Fake\",\"Sudden\"]\n",
    "nl = list(map(lambda x:x.lower(),s))\n",
    "print (nl)"
   ]
  },
  {
   "cell_type": "code",
   "execution_count": 22,
   "id": "be6cc398",
   "metadata": {},
   "outputs": [
    {
     "name": "stdout",
     "output_type": "stream",
     "text": [
      "Enter the lower limit - 2\n",
      "Enter the upper limit - 40\n",
      "3 5 7 11 13 17 19 23 29 31 37 "
     ]
    }
   ],
   "source": [
    "o = lambda x:(x%2 !=0)\n",
    "def prime(x):\n",
    "    for i in range(2,x):\n",
    "        if (x%i==0):\n",
    "            return 0\n",
    "            break\n",
    "    else:\n",
    "        return 1\n",
    "        \n",
    "l = int(input(\"Enter the lower limit - \"))\n",
    "u = int(input(\"Enter the upper limit - \"))\n",
    "for i in range(l,u):\n",
    "    if((o(i) == True)and(prime(i) == 1)):\n",
    "        print(i, end = \" \")"
   ]
  }
 ],
 "metadata": {
  "kernelspec": {
   "display_name": "Python 3 (ipykernel)",
   "language": "python",
   "name": "python3"
  },
  "language_info": {
   "codemirror_mode": {
    "name": "ipython",
    "version": 3
   },
   "file_extension": ".py",
   "mimetype": "text/x-python",
   "name": "python",
   "nbconvert_exporter": "python",
   "pygments_lexer": "ipython3",
   "version": "3.10.9"
  }
 },
 "nbformat": 4,
 "nbformat_minor": 5
}
