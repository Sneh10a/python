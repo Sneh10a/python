{
 "cells": [
  {
   "cell_type": "code",
   "execution_count": null,
   "id": "0e9af211",
   "metadata": {},
   "outputs": [],
   "source": [
    "# for loop\n",
    "# range(5) : 0,1,2,3,4\n",
    "# range(1,5) : 1,2,3,4\n",
    "# rangle(1,10,2) : 1,3,5,7,9"
   ]
  },
  {
   "cell_type": "code",
   "execution_count": 1,
   "id": "015e8f37",
   "metadata": {},
   "outputs": [
    {
     "name": "stdout",
     "output_type": "stream",
     "text": [
      "0 Hello\n",
      "1 Hello\n",
      "2 Hello\n",
      "3 Hello\n",
      "4 Hello\n"
     ]
    }
   ],
   "source": [
    "for i in range(5):\n",
    "    print(i, \"Hello\")"
   ]
  },
  {
   "cell_type": "code",
   "execution_count": 9,
   "id": "1e3cd514",
   "metadata": {},
   "outputs": [
    {
     "name": "stdout",
     "output_type": "stream",
     "text": [
      "1 Hello 3 Hello 5 Hello 7 Hello 9 Hello 11 Hello 13 Hello "
     ]
    }
   ],
   "source": [
    "for i in range(1,15,2):\n",
    "    print(i, \"Hello\")"
   ]
  },
  {
   "cell_type": "code",
   "execution_count": 6,
   "id": "b277a529",
   "metadata": {},
   "outputs": [
    {
     "name": "stdout",
     "output_type": "stream",
     "text": [
      "15 Hello\n",
      "13 Hello\n",
      "11 Hello\n",
      "9 Hello\n",
      "7 Hello\n",
      "5 Hello\n",
      "3 Hello\n",
      "1 Hello\n"
     ]
    }
   ],
   "source": [
    "for i in range(15,0,-2):\n",
    "    print(i, \"Hello\")"
   ]
  },
  {
   "cell_type": "code",
   "execution_count": 8,
   "id": "5274f75f",
   "metadata": {},
   "outputs": [
    {
     "name": "stdout",
     "output_type": "stream",
     "text": [
      "Enter n3\n",
      "3 * 1 = 3\n",
      "3 * 2 = 6\n",
      "3 * 3 = 9\n",
      "3 * 4 = 12\n",
      "3 * 5 = 15\n",
      "3 * 6 = 18\n",
      "3 * 7 = 21\n",
      "3 * 8 = 24\n",
      "3 * 9 = 27\n",
      "3 * 10 = 30\n"
     ]
    }
   ],
   "source": [
    "# tables\n",
    "n = int(input(\"Enter n \"))\n",
    "for i in range(1,11):\n",
    "    print(n, \"*\",i, \"=\",i*n)"
   ]
  },
  {
   "cell_type": "code",
   "execution_count": 40,
   "id": "764bb318",
   "metadata": {},
   "outputs": [
    {
     "name": "stdout",
     "output_type": "stream",
     "text": [
      "Enter a value 3\n",
      "Enter the value 50\n",
      "Now the total is  50\n",
      "Enter the value 20\n",
      "Now the total is  70\n",
      "Enter the value 30\n",
      "Now the total is  100\n"
     ]
    }
   ],
   "source": [
    "s = 0\n",
    "n = int(input(\"Enter a value \"))\n",
    "for i in range(n):\n",
    "    x = int(input(\"Enter the value \"))\n",
    "    s = s+x\n",
    "    print(\"Now the total is \",s)"
   ]
  },
  {
   "cell_type": "code",
   "execution_count": 18,
   "id": "be46adc3",
   "metadata": {},
   "outputs": [
    {
     "name": "stdout",
     "output_type": "stream",
     "text": [
      "Enter the value 3\n",
      "Enter the namerom\n",
      "Enter the number9804657\n",
      "rom9804657\n",
      "\n",
      "Enter the namerew\n",
      "Enter the number985304342\n",
      "rom9804657\n",
      "rew985304342\n",
      "\n",
      "Enter the nameupm\n",
      "Enter the number98432345\n",
      "rom9804657\n",
      "rew985304342\n",
      "upm98432345\n",
      "\n"
     ]
    }
   ],
   "source": [
    "s = \"\"\n",
    "n = int(input(\"Enter the value \"))\n",
    "for i in range(n):\n",
    "    name = (input(\"Enter the name \"))\n",
    "    phone = input(\"Enter the number \")\n",
    "    s = s+name + str(phone) +\"\\n\"\n",
    "    print(s)"
   ]
  },
  {
   "cell_type": "code",
   "execution_count": 6,
   "id": "67e2689c",
   "metadata": {},
   "outputs": [
    {
     "name": "stdout",
     "output_type": "stream",
     "text": [
      "Enter the number5\n",
      "The factorial of  5  is  120\n"
     ]
    }
   ],
   "source": [
    "# factorial\n",
    "f = 1\n",
    "num = int(input(\"Enter the number \"))\n",
    "for i in range(num,1,-1):\n",
    "    f = f*i\n",
    "print(\"The factorial of \",num,\" is \",f)"
   ]
  },
  {
   "cell_type": "code",
   "execution_count": 15,
   "id": "9434a4c2",
   "metadata": {},
   "outputs": [
    {
     "name": "stdout",
     "output_type": "stream",
     "text": [
      "The sum of numbers is  55  and the product of the numbers is  3628800\n"
     ]
    }
   ],
   "source": [
    "# add and multiply no. from 1 to 100\n",
    "a = 0\n",
    "p = 1\n",
    "for i in range(1,11):\n",
    "    a = a + i\n",
    "    p = p * i\n",
    "print(\"The sum of numbers is \", a, \" and the product of the numbers is \",p)"
   ]
  },
  {
   "cell_type": "code",
   "execution_count": 47,
   "id": "1bea82a4",
   "metadata": {},
   "outputs": [
    {
     "name": "stdout",
     "output_type": "stream",
     "text": [
      "Enter the levels 6\n",
      "Enter the character *\n",
      " * \n",
      " * * \n",
      " * * * \n",
      " * * * * \n",
      " * * * * * \n",
      " * * * * * * \n"
     ]
    }
   ],
   "source": [
    "# triangle\n",
    "l = int(input(\"Enter the levels \"))\n",
    "c = input(\"Enter the character \")\n",
    "s = \" \"\n",
    "for i in range(1,l+1):\n",
    "    s = s+c+\" \"\n",
    "    print(s)"
   ]
  },
  {
   "cell_type": "code",
   "execution_count": 57,
   "id": "2d23ab9d",
   "metadata": {},
   "outputs": [
    {
     "name": "stdout",
     "output_type": "stream",
     "text": [
      "Enter the levels 6\n",
      "Enter the character &\n",
      "&\n",
      "&&\n",
      "&&&\n",
      "&&&&\n",
      "&&&&&\n",
      "&&&&&&\n"
     ]
    }
   ],
   "source": [
    "l = int(input(\"Enter the levels \"))\n",
    "c = input(\"Enter the character \")\n",
    "s = \" \"\n",
    "for i in range(1,l+1): \n",
    "    print(i*c)"
   ]
  },
  {
   "cell_type": "code",
   "execution_count": 14,
   "id": "9d58a202",
   "metadata": {},
   "outputs": [
    {
     "name": "stdout",
     "output_type": "stream",
     "text": [
      "Enter the number of items - 3\n",
      "product name - chips\n",
      "product price - 20\n",
      "product quantity - 3\n",
      "The amount is -  60.0\n",
      "product name - juice\n",
      "product price - 10\n",
      "product quantity - 3\n",
      "The amount is -  30.0\n",
      "product name - candy \n",
      "product price - 5\n",
      "product quantity - 10\n",
      "The amount is -  50.0\n",
      "The total bill is -  140.0\n"
     ]
    }
   ],
   "source": [
    "# billing system\n",
    "num = int (input(\"Enter the number of items - \"))\n",
    "Total = 0\n",
    "for i in range (1,num+1):\n",
    "    n = input(\"product name - \")\n",
    "    p = float(input(\"product price - \"))\n",
    "    qty = int(input(\"product quantity - \"))\n",
    "    total = p*qty\n",
    "    Total = Total + total\n",
    "    print (\"The amount is - \" , total)\n",
    "print ( \"The Total bill is - \", Total)"
   ]
  },
  {
   "cell_type": "code",
   "execution_count": 11,
   "id": "f677d0a7",
   "metadata": {},
   "outputs": [
    {
     "name": "stdout",
     "output_type": "stream",
     "text": [
      "s light\n",
      "t light\n",
      "a light\n",
      "r light\n",
      " Hello world I am Python"
     ]
    }
   ],
   "source": [
    "# string \n",
    "a = \"star\"\n",
    "b = \" Hello world I am Python\"\n",
    "for i in a:\n",
    "    print(i, \"light \")\n",
    "for i in b:\n",
    "    print(i,end = \"\")"
   ]
  },
  {
   "cell_type": "code",
   "execution_count": null,
   "id": "70d22b36",
   "metadata": {},
   "outputs": [],
   "source": [
    "# while loop \n",
    "# while <condition>:"
   ]
  },
  {
   "cell_type": "code",
   "execution_count": 22,
   "id": "26a4ef68",
   "metadata": {},
   "outputs": [
    {
     "name": "stdout",
     "output_type": "stream",
     "text": [
      "0\n",
      "1\n",
      "2\n",
      "3\n",
      "4\n"
     ]
    }
   ],
   "source": [
    "a = 0\n",
    "while a < 5:\n",
    "    print (a)\n",
    "    a = a+1"
   ]
  },
  {
   "cell_type": "code",
   "execution_count": 24,
   "id": "bd636ebd",
   "metadata": {},
   "outputs": [
    {
     "name": "stdout",
     "output_type": "stream",
     "text": [
      "0\n",
      "0.5\n",
      "1.0\n",
      "1.5\n",
      "2.0\n"
     ]
    }
   ],
   "source": [
    "a = 0 \n",
    "while a<=2:\n",
    "    print(a)\n",
    "    a = a + 0.5"
   ]
  },
  {
   "cell_type": "code",
   "execution_count": 28,
   "id": "a98a8f0f",
   "metadata": {},
   "outputs": [
    {
     "name": "stdout",
     "output_type": "stream",
     "text": [
      "Enter the number - 6\n",
      "6 * 1  =  6\n",
      "6 * 2  =  12\n",
      "6 * 3  =  18\n",
      "6 * 4  =  24\n",
      "6 * 5  =  30\n",
      "6 * 6  =  36\n",
      "6 * 7  =  42\n",
      "6 * 8  =  48\n",
      "6 * 9  =  54\n",
      "6 * 10  =  60\n"
     ]
    }
   ],
   "source": [
    "# table\n",
    "n = int (input(\"Enter the number - \"))\n",
    "i = 1\n",
    "while i<=10:\n",
    "    print ( n, \"*\", i, \" = \", n*i)\n",
    "    i = i+1"
   ]
  },
  {
   "cell_type": "code",
   "execution_count": 45,
   "id": "c33ada3e",
   "metadata": {},
   "outputs": [
    {
     "name": "stdout",
     "output_type": "stream",
     "text": [
      "Enter a number 3\n",
      "Enter the value 10\n",
      "Now the total is  10\n",
      "Enter the value 40\n",
      "Now the total is  50\n",
      "Enter the value 50\n",
      "Now the total is  100\n"
     ]
    }
   ],
   "source": [
    "s = 0\n",
    "n = int(input(\"Enter a number \"))\n",
    "i = 0\n",
    "while i<=n:\n",
    "    x = int(input(\"Enter the value \"))\n",
    "    s = s+x\n",
    "    print(\"Now the total is \",s)"
   ]
  },
  {
   "cell_type": "code",
   "execution_count": 49,
   "id": "88ea68f0",
   "metadata": {},
   "outputs": [
    {
     "name": "stdout",
     "output_type": "stream",
     "text": [
      "Enter the value 2\n",
      "Enter the name sneha\n",
      "Enter the number 98132868672\n",
      " sneha - 98132868672 \n",
      "\n",
      "Enter the name abhi \n",
      "Enter the number 9828287286\n",
      " sneha - 98132868672 \n",
      "abhi  - 9828287286 \n",
      "\n"
     ]
    }
   ],
   "source": [
    "s = \" \"\n",
    "n = int(input(\"Enter the value \"))\n",
    "i = 1\n",
    "while i<=n:\n",
    "    name = (input(\"Enter the name \"))\n",
    "    phone = input(\"Enter the number \")\n",
    "    i += 1\n",
    "    s = s+name+\" - \" + str(phone) +\" \\n\"\n",
    "    print(s)"
   ]
  },
  {
   "cell_type": "code",
   "execution_count": 1,
   "id": "b7857761",
   "metadata": {},
   "outputs": [
    {
     "name": "stdout",
     "output_type": "stream",
     "text": [
      "Enter the number to be checked - 343\n",
      "343  is a palindrome.\n"
     ]
    }
   ],
   "source": [
    "# palindrome\n",
    "n = int(input(\"Enter the number to be checked - \"))\n",
    "num = n \n",
    "s = 0\n",
    "while n>0:\n",
    "    d = n%10\n",
    "    s = (s*10)+d\n",
    "    n = n//10 #in python / gives in decimal\n",
    "if (num == s):\n",
    "    print (num , \" is a palindrome.\")\n",
    "else:\n",
    "    print (num , \" is not a plaindrome.\")"
   ]
  },
  {
   "cell_type": "code",
   "execution_count": 25,
   "id": "095783bd",
   "metadata": {},
   "outputs": [
    {
     "name": "stdout",
     "output_type": "stream",
     "text": [
      "Enter the number to be checked - 23\n",
      "23  is prime. \n"
     ]
    }
   ],
   "source": [
    "# prime or composite\n",
    "n = int(input(\"Enter the number to be checked - \"))\n",
    "i = 2\n",
    "c = 0\n",
    "while i<n//2+1:\n",
    "    if (n%i==0):\n",
    "       print (n, \" is a composite number. \")\n",
    "       break\n",
    "    i = i+1\n",
    "else:\n",
    "    print (n, \" is prime. \")"
   ]
  },
  {
   "cell_type": "code",
   "execution_count": null,
   "id": "e135de3b",
   "metadata": {},
   "outputs": [],
   "source": [
    "# control statements\n",
    "# continue, break, pass "
   ]
  },
  {
   "cell_type": "code",
   "execution_count": 4,
   "id": "5f19d89f",
   "metadata": {},
   "outputs": [
    {
     "name": "stdout",
     "output_type": "stream",
     "text": [
      "0 1 2 3 4 6 7 9 "
     ]
    }
   ],
   "source": [
    "for i in  range(10):\n",
    "    if i==5 or i == 8:\n",
    "        continue\n",
    "    print(i, end =\" \")"
   ]
  },
  {
   "cell_type": "code",
   "execution_count": 3,
   "id": "1ec2be27",
   "metadata": {},
   "outputs": [
    {
     "name": "stdout",
     "output_type": "stream",
     "text": [
      "Enter the sentence - It is sunny today. But I am sleepy. \n",
      "It is sunny today"
     ]
    }
   ],
   "source": [
    "a = input (\"Enter the sentence - \")\n",
    "for i in a:\n",
    "    if i == \".\":\n",
    "        break\n",
    "    print (i, end=\"\")"
   ]
  },
  {
   "cell_type": "code",
   "execution_count": 5,
   "id": "c420e564",
   "metadata": {},
   "outputs": [
    {
     "name": "stdout",
     "output_type": "stream",
     "text": [
      "Enter the sentence - I am Sneha. It is nice in here. _\n",
      "I am Sneha It is nice in here "
     ]
    }
   ],
   "source": [
    "a = input (\"Enter the sentence - \")\n",
    "for i in a:\n",
    "    if i == \".\" or i == \"_\":\n",
    "        continue\n",
    "    print (i, end=\"\")"
   ]
  },
  {
   "cell_type": "code",
   "execution_count": 8,
   "id": "e1ec3a16",
   "metadata": {},
   "outputs": [
    {
     "name": "stdout",
     "output_type": "stream",
     "text": [
      "1 2 3 4 6 7 9 10 "
     ]
    }
   ],
   "source": [
    "i = 1\n",
    "while i<=10:\n",
    "    if i==5 or i == 8:\n",
    "        i = i + 1\n",
    "        continue\n",
    "    print(i, end =\" \")\n",
    "    i = i + 1"
   ]
  },
  {
   "cell_type": "code",
   "execution_count": 10,
   "id": "a4750c3c",
   "metadata": {},
   "outputs": [
    {
     "name": "stdout",
     "output_type": "stream",
     "text": [
      "5\n",
      "10\n",
      "15\n",
      "20\n",
      "25\n",
      "30\n",
      "35\n",
      "40\n",
      "45\n",
      "50\n"
     ]
    }
   ],
   "source": [
    "for i in range(1,51):\n",
    "    if i % 5 !=0:\n",
    "        continue\n",
    "    print(i)"
   ]
  },
  {
   "cell_type": "code",
   "execution_count": 3,
   "id": "f744325c",
   "metadata": {},
   "outputs": [
    {
     "name": "stdout",
     "output_type": "stream",
     "text": [
      "Enter the temperature in celcius 31\n",
      "The temperature in fahrenheit is  87.80000000000001\n"
     ]
    }
   ],
   "source": [
    "#celcius to fahrenheit\n",
    "cel = float (input(\"Enter the temperature in celcius \"))\n",
    "far = 1.8*cel+32.0\n",
    "print (\"The temperature in fahrenheit is \" , far)"
   ]
  },
  {
   "cell_type": "code",
   "execution_count": 9,
   "id": "1a1d11e4",
   "metadata": {},
   "outputs": [
    {
     "name": "stdout",
     "output_type": "stream",
     "text": [
      "Enter the number to be checked 371\n",
      "Armstrong\n"
     ]
    }
   ],
   "source": [
    "# Armstrong\n",
    "num = int (input(\"Enter the number to be checked \"))\n",
    "s = 0\n",
    "n= num\n",
    "while n>0:\n",
    "    d = n % 10\n",
    "    s = d**3 +s\n",
    "    n = n//10\n",
    "if (s == num):\n",
    "    print (\"Armstrong\")\n",
    "else : \n",
    "    print (\"Not Armstrong\")"
   ]
  },
  {
   "cell_type": "code",
   "execution_count": null,
   "id": "f958fa75",
   "metadata": {},
   "outputs": [],
   "source": [
    "# magic\n",
    "num = int (input(\"Enter the number to be checked\"))\n",
    "# 361 = 3+6+1 = 10 = 1+ 0 =1 \n"
   ]
  }
 ],
 "metadata": {
  "kernelspec": {
   "display_name": "Python 3 (ipykernel)",
   "language": "python",
   "name": "python3"
  },
  "language_info": {
   "codemirror_mode": {
    "name": "ipython",
    "version": 3
   },
   "file_extension": ".py",
   "mimetype": "text/x-python",
   "name": "python",
   "nbconvert_exporter": "python",
   "pygments_lexer": "ipython3",
   "version": "3.10.9"
  }
 },
 "nbformat": 4,
 "nbformat_minor": 5
}
