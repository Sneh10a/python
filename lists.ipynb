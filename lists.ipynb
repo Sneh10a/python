{
 "cells": [
  {
   "cell_type": "code",
   "execution_count": 28,
   "id": "961a2cf6",
   "metadata": {},
   "outputs": [],
   "source": [
    "# python collection\n",
    "# lists\n",
    "# tuple\n",
    "# dict\n",
    "# set "
   ]
  },
  {
   "cell_type": "code",
   "execution_count": 29,
   "id": "85a9c258",
   "metadata": {},
   "outputs": [],
   "source": [
    "# lists\n",
    "# Indexing\n",
    "# Multiple data\n",
    "# Duplicate\n",
    "# Mutable"
   ]
  },
  {
   "cell_type": "code",
   "execution_count": 30,
   "id": "0552a045",
   "metadata": {},
   "outputs": [
    {
     "name": "stdout",
     "output_type": "stream",
     "text": [
      "<class 'list'>\n",
      "[1, 2, 3]\n"
     ]
    }
   ],
   "source": [
    "l = []\n",
    "l = list()\n",
    "a = [1,2,3]\n",
    "print(type(a))\n",
    "print (a)"
   ]
  },
  {
   "cell_type": "code",
   "execution_count": 5,
   "id": "ac64a229",
   "metadata": {},
   "outputs": [
    {
     "name": "stdout",
     "output_type": "stream",
     "text": [
      "['well', 'boot', 'cat', 'well']\n",
      "['Apple', 'boot', 'well']\n"
     ]
    }
   ],
   "source": [
    "a =[\"Apple\",\"well\",\"boot\",\"cat\",\"well\"]\n",
    "print (a[1:40])\n",
    "print (a[0:10:2])"
   ]
  },
  {
   "cell_type": "code",
   "execution_count": 11,
   "id": "d37a6209",
   "metadata": {},
   "outputs": [
    {
     "name": "stdout",
     "output_type": "stream",
     "text": [
      "[1, 5, 8, 4, 2, 4, 3]\n",
      "[1, 5, 8, 4, 1, 5, 8, 4]\n"
     ]
    }
   ],
   "source": [
    "d = [1,5,8,4]\n",
    "e = [2,4,3]\n",
    "s = 2\n",
    "f = d+e\n",
    "g = d * s\n",
    "print (f)\n",
    "print (g)"
   ]
  },
  {
   "cell_type": "code",
   "execution_count": 20,
   "id": "6f6ace1b",
   "metadata": {},
   "outputs": [
    {
     "name": "stdout",
     "output_type": "stream",
     "text": [
      "Enter the range 5\n",
      "Enter the values -87\n",
      "Enter the values -23\n",
      "Enter the values -45\n",
      "Enter the values -67\n",
      "Enter the values -78\n",
      "[87, 23, 45, 67, 78]\n"
     ]
    }
   ],
   "source": [
    "n = int(input(\"Enter the range \"))\n",
    "l = []\n",
    "for i in range(n):\n",
    "    x = int(input(\"Enter the values -\"))\n",
    "    l = l+[x]\n",
    "print (l)"
   ]
  },
  {
   "cell_type": "code",
   "execution_count": 21,
   "id": "33a58ae1",
   "metadata": {},
   "outputs": [
    {
     "name": "stdout",
     "output_type": "stream",
     "text": [
      "87\n",
      "23\n",
      "300\n"
     ]
    }
   ],
   "source": [
    "print(max(l))\n",
    "print(min(l))\n",
    "print(sum(l))"
   ]
  },
  {
   "cell_type": "code",
   "execution_count": 25,
   "id": "89d25753",
   "metadata": {},
   "outputs": [
    {
     "name": "stdout",
     "output_type": "stream",
     "text": [
      "[23, 45, 67, 78, 87]\n",
      "[87, 78, 67, 45, 23]\n"
     ]
    }
   ],
   "source": [
    "l.sort()\n",
    "print(l)\n",
    "l.reverse()\n",
    "print(l)"
   ]
  },
  {
   "cell_type": "code",
   "execution_count": null,
   "id": "c3f342fd",
   "metadata": {},
   "outputs": [],
   "source": [
    "# append(), insert(), extend(), del, remove(), pop()"
   ]
  },
  {
   "cell_type": "code",
   "execution_count": 28,
   "id": "191b223b",
   "metadata": {},
   "outputs": [
    {
     "name": "stdout",
     "output_type": "stream",
     "text": [
      "Apple\n",
      "well\n",
      "boot\n",
      "cat\n",
      "well\n",
      "Apple\n",
      "well\n",
      "boot\n",
      "cat\n",
      "well\n"
     ]
    }
   ],
   "source": [
    "a =[\"Apple\",\"well\",\"boot\",\"cat\",\"well\"]\n",
    "for i in a:\n",
    "    print (i)\n",
    "for i in range(len(a)):\n",
    "    print (a[i])"
   ]
  },
  {
   "cell_type": "code",
   "execution_count": 34,
   "id": "5ee41214",
   "metadata": {},
   "outputs": [
    {
     "name": "stdout",
     "output_type": "stream",
     "text": [
      "Yes\n",
      "1\n"
     ]
    }
   ],
   "source": [
    "n = [\"Vivan\", \"Dante\", \"Kai\", \"Isa\", \"Isabella\"]\n",
    "if \"Isa\" in n:\n",
    "    print(\"Yes\")\n",
    "    print(n.count(\"Isa\"))\n",
    "else:\n",
    "    print(\"No\")"
   ]
  },
  {
   "cell_type": "code",
   "execution_count": 34,
   "id": "a32b1901",
   "metadata": {},
   "outputs": [
    {
     "name": "stdout",
     "output_type": "stream",
     "text": [
      "Enter the range 3\n",
      "Enter the names -Vaishnav\n",
      "Enter the names -sneha\n",
      "Enter the names -Riya\n",
      "Enter the name to be searched riya\n",
      "Found\n"
     ]
    }
   ],
   "source": [
    "#WAP peogram to search any value in an array irrespective of the case\n",
    "r = int(input(\"Enter the range \"))\n",
    "arr = []\n",
    "for i in range(r):\n",
    "    x = input(\"Enter the names -\")\n",
    "    arr = arr+[x]\n",
    "search = input (\"Enter the name to be searched \")\n",
    "search = search.lower()\n",
    "for i in arr:\n",
    "    if search == i.lower():\n",
    "        print (\"Found\")"
   ]
  },
  {
   "cell_type": "code",
   "execution_count": 35,
   "id": "b463035f",
   "metadata": {},
   "outputs": [
    {
     "name": "stdout",
     "output_type": "stream",
     "text": [
      "['Vivan', 'Dante', 'Kai', 'Isa', 'Isabella', 'Christan', 'Stealla']\n"
     ]
    }
   ],
   "source": [
    "# append() it adds a value in the last of the list\n",
    "n. append(\"Christan\")\n",
    "n. append(\"Stealla\")\n",
    "print(n)"
   ]
  },
  {
   "cell_type": "code",
   "execution_count": 52,
   "id": "405116b3",
   "metadata": {},
   "outputs": [
    {
     "name": "stdout",
     "output_type": "stream",
     "text": [
      "[7, 8, 9, 'Tall', 'Large', 'Small']\n"
     ]
    }
   ],
   "source": [
    "# insert \n",
    "v = [7,8,9,\"Tall\",\"Small\"]\n",
    "v.insert(4,\"Large\")\n",
    "print(v)"
   ]
  },
  {
   "cell_type": "code",
   "execution_count": 53,
   "id": "3bdfc076",
   "metadata": {},
   "outputs": [
    {
     "name": "stdout",
     "output_type": "stream",
     "text": [
      "[7, 8, 9, 'Tall', 'Large', 'Small', 'Short', 'Tiny', 'Tip']\n"
     ]
    }
   ],
   "source": [
    "# extend()\n",
    "u = [\"Short\",\"Tiny\",\"Tip\"]\n",
    "v.extend(u)\n",
    "print(v)"
   ]
  },
  {
   "cell_type": "code",
   "execution_count": 54,
   "id": "18d34b2d",
   "metadata": {},
   "outputs": [
    {
     "name": "stdout",
     "output_type": "stream",
     "text": [
      "['Size', 'Grande', 'Venti', 'Tall', 'Large', 'Small', 'Short', 'Tiny', 'Tip']\n"
     ]
    }
   ],
   "source": [
    "# update\n",
    "v[0] = \"Size\"\n",
    "v[1:3] = [\"Grande\", \"Venti\"]\n",
    "print(v)"
   ]
  },
  {
   "cell_type": "code",
   "execution_count": null,
   "id": "66f02baf",
   "metadata": {},
   "outputs": [],
   "source": [
    "# delete\n",
    "# del remove() pop()"
   ]
  },
  {
   "cell_type": "code",
   "execution_count": 6,
   "id": "6d21b6dc",
   "metadata": {},
   "outputs": [
    {
     "name": "stdout",
     "output_type": "stream",
     "text": [
      "['Size', 'Grande', 'Tip', 'Tall', 'Large', 'Small', 'Short', 'Tiny', 'Tip']\n",
      "['Size', 'Grande', 'Tip', 'Tall', 'Short', 'Tiny', 'Tip']\n",
      "['Size', 'Grande', 'Tall', 'Short', 'Tiny', 'Tip']\n",
      "Tall ['Size', 'Grande', 'Short', 'Tiny', 'Tip']\n"
     ]
    }
   ],
   "source": [
    "s = ['Size', 'Grande', 'Venti','Tip','Tall', 'Large', 'Small', 'Short', 'Tiny', 'Tip']\n",
    "del s[2]\n",
    "print (s)\n",
    "del s[4:6]\n",
    "print (s)\n",
    "s.remove(\"Tip\")\n",
    "print(s)\n",
    "new = s.pop(2)\n",
    "print (new , s)"
   ]
  },
  {
   "cell_type": "code",
   "execution_count": 8,
   "id": "b33d8348",
   "metadata": {},
   "outputs": [
    {
     "name": "stdout",
     "output_type": "stream",
     "text": [
      "[2, 3, 5]\n",
      "2\n"
     ]
    }
   ],
   "source": [
    "# list inside a list\n",
    "l = [[2, 3, 5],\n",
    "     [4, 6,10],\n",
    "     [3, 5, 9]]\n",
    "print (l[0])\n",
    "print (l[0][0])"
   ]
  },
  {
   "cell_type": "code",
   "execution_count": 11,
   "id": "e4c7ce39",
   "metadata": {},
   "outputs": [
    {
     "data": {
      "text/plain": [
       "[['Lina', 25, 'spain'], ['Rosie', 22, 'US']]"
      ]
     },
     "execution_count": 11,
     "metadata": {},
     "output_type": "execute_result"
    }
   ],
   "source": [
    "a = [[\"Lina\",25,\"spain\"],\n",
    "     [\"Rosie\",22,\"US\"]]\n",
    "a"
   ]
  },
  {
   "cell_type": "code",
   "execution_count": 14,
   "id": "75ab2b04",
   "metadata": {},
   "outputs": [
    {
     "name": "stdout",
     "output_type": "stream",
     "text": [
      "Enter the size 3\n",
      "Enter the name - Bree\n",
      "Enter the age - 20\n",
      "Enter the address - Kathamndu\n",
      "Enter the name - Nathan\n",
      "Enter the age - 22\n",
      "Enter the address - Dhalko\n",
      "Enter the name - Sheet \n",
      "Enter the age - 22\n",
      "Enter the address - Bangalore\n",
      "[['Bree', '20', 'Kathamndu'], ['Nathan', '22', 'Dhalko'], ['Sheet ', '22', 'Bangalore']]\n"
     ]
    }
   ],
   "source": [
    "a = []\n",
    "n = int(input (\"Enter the size \"))\n",
    "for i in range(n):\n",
    "    name = input(\"Enter the name - \")\n",
    "    age = input(\"Enter the age - \")  \n",
    "    add = input(\"Enter the address - \")\n",
    "    info = [name, age, add]\n",
    "    a.append(info)\n",
    "print(a)"
   ]
  },
  {
   "cell_type": "code",
   "execution_count": 37,
   "id": "e7a0c9eb",
   "metadata": {},
   "outputs": [
    {
     "name": "stdout",
     "output_type": "stream",
     "text": [
      "[['Bree', '20', 'Kathamndu'], ['Nathan', '22', 'Dhalko'], ['vaish', '23', 'Bangalore'], ['Bree', '25', 'Nasa'], ['Lily', '21', 'London']]\n"
     ]
    }
   ],
   "source": [
    "a.append(['Lily','21','London'])\n",
    "print(a)"
   ]
  },
  {
   "cell_type": "code",
   "execution_count": 43,
   "id": "442b6cee",
   "metadata": {
    "scrolled": true
   },
   "outputs": [
    {
     "name": "stdout",
     "output_type": "stream",
     "text": [
      "Enter the detail - Bree\n",
      "['Bree', '20', 'Kathamndu']\n",
      "['Bree', '25', 'Nasa']\n",
      "There are 2 records.\n"
     ]
    }
   ],
   "source": [
    "#search\n",
    "c = 0\n",
    "a = [['Bree', '20', 'Kathamndu'],\n",
    "     ['Nathan', '22', 'Dhalko'], \n",
    "     ['vaish', '23', 'Bangalore'],\n",
    "     ['Bree', '25', 'Nasa']]\n",
    "name = input(\"Enter the detail - \")\n",
    "for i in a:\n",
    "     if name in i:\n",
    "         print(i)\n",
    "         c = c+1\n",
    "print (f\"There are {c} records.\") "
   ]
  },
  {
   "cell_type": "code",
   "execution_count": 45,
   "id": "bd723318",
   "metadata": {},
   "outputs": [
    {
     "name": "stdout",
     "output_type": "stream",
     "text": [
      "[['Bree', '21', 'Kathamndu'], ['Nathan', '22', 'Dhalko'], ['vaish', '23', 'Bangalore'], ['Bree', '25', 'Nasa']]\n",
      "[['Bree', '21', 'Kathamndu'], ['Nathan', '22', 'Dhalko'], ['vaish', '23', 'Bangalore']]\n"
     ]
    }
   ],
   "source": [
    "# update\n",
    "a [0][1] = '21'\n",
    "print (a)\n",
    "del a[3]\n",
    "print (a)"
   ]
  },
  {
   "cell_type": "code",
   "execution_count": 4,
   "id": "b58953bb",
   "metadata": {},
   "outputs": [
    {
     "name": "stdout",
     "output_type": "stream",
     "text": [
      "Enter the size 3\n",
      "Enter the value 1\n",
      "Enter the value 2\n",
      "Enter the value 3\n",
      "Enter the value 4\n",
      "Enter the value 5\n",
      "Enter the value 6\n",
      "Enter the value 7\n",
      "Enter the value 8\n",
      "Enter the value 9\n",
      "[' 1 2 3 ', ' 4 5 6 ', ' 7 8 9 ']\n"
     ]
    }
   ],
   "source": [
    "# wap to create a matrix having n no. of rows and coloumns\n",
    "a = []\n",
    "n = int(input (\"Enter the size \"))\n",
    "for i in range(n):\n",
    "    k = \" \"\n",
    "    for j in range(n):\n",
    "        x = input(\"Enter the value \")\n",
    "        k = k + x + \" \"\n",
    "    a = a + [k] \n",
    "print(a)"
   ]
  },
  {
   "cell_type": "code",
   "execution_count": null,
   "id": "82cac53d",
   "metadata": {},
   "outputs": [],
   "source": []
  }
 ],
 "metadata": {
  "kernelspec": {
   "display_name": "Python 3 (ipykernel)",
   "language": "python",
   "name": "python3"
  },
  "language_info": {
   "codemirror_mode": {
    "name": "ipython",
    "version": 3
   },
   "file_extension": ".py",
   "mimetype": "text/x-python",
   "name": "python",
   "nbconvert_exporter": "python",
   "pygments_lexer": "ipython3",
   "version": "3.10.9"
  }
 },
 "nbformat": 4,
 "nbformat_minor": 5
}
