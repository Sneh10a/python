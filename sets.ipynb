{
 "cells": [
  {
   "cell_type": "code",
   "execution_count": null,
   "id": "43b90926",
   "metadata": {},
   "outputs": [],
   "source": [
    "# sets\n",
    "# no indexing\n",
    "# Multiple but not duplicate\n",
    "# unordered\n",
    "# mutable"
   ]
  },
  {
   "cell_type": "code",
   "execution_count": 2,
   "id": "70cbdbe5",
   "metadata": {},
   "outputs": [
    {
     "name": "stdout",
     "output_type": "stream",
     "text": [
      "<class 'set'>\n",
      "<class 'dict'>\n"
     ]
    }
   ],
   "source": [
    "s = {1,2,3,4,5}\n",
    "print(type(s))\n",
    "p = {}\n",
    "print (type(p)) # empty gives dictinoary "
   ]
  },
  {
   "cell_type": "code",
   "execution_count": 6,
   "id": "7a77da6f",
   "metadata": {},
   "outputs": [
    {
     "name": "stdout",
     "output_type": "stream",
     "text": [
      "{'Good', 'To', 'Morning', 'See', 'Everyone', 'You'}\n",
      "{65, 34, 132, 2343, 45}\n"
     ]
    }
   ],
   "source": [
    "s = {\"Good\",\"Morning\",\"Everyone\",\"Good\", \"To\", \"See\" , \"You\"}\n",
    "print(s)\n",
    "n = {132,2343,45,65,34}\n",
    "print(n)"
   ]
  },
  {
   "cell_type": "code",
   "execution_count": 7,
   "id": "6b6bc719",
   "metadata": {},
   "outputs": [
    {
     "name": "stdout",
     "output_type": "stream",
     "text": [
      "Good\n",
      "To\n",
      "Morning\n",
      "See\n",
      "Everyone\n",
      "You\n"
     ]
    }
   ],
   "source": [
    "for i in s:\n",
    "    print(i)"
   ]
  },
  {
   "cell_type": "code",
   "execution_count": null,
   "id": "e3795ec2",
   "metadata": {},
   "outputs": [],
   "source": [
    "# add(), update(), remove()"
   ]
  },
  {
   "cell_type": "code",
   "execution_count": 11,
   "id": "7e7757f5",
   "metadata": {},
   "outputs": [
    {
     "name": "stdout",
     "output_type": "stream",
     "text": [
      "{1, 2, 3, 4}\n",
      "{1, 2, 3, 4, 5, 6}\n",
      "{1, 2, 3, 5, 6}\n"
     ]
    }
   ],
   "source": [
    "s = {1,2,3}\n",
    "s.add(4)\n",
    "print(s)\n",
    "n = {5,6}\n",
    "s.update(n)\n",
    "print(s)\n",
    "s.remove(4)\n",
    "print(s)"
   ]
  },
  {
   "cell_type": "code",
   "execution_count": 16,
   "id": "cbdeb781",
   "metadata": {},
   "outputs": [
    {
     "name": "stdout",
     "output_type": "stream",
     "text": [
      "{'Jules', 'Josh'}\n",
      "{'Steve', 'Michel', 'John', 'Ram', 'Jules', 'Josh', 'Shaym', 'Stan'}\n",
      "{'John', 'Ram', 'Steve'}\n",
      "{'Hector', 'Tom'}\n"
     ]
    }
   ],
   "source": [
    "# universal set\n",
    "u = {'Steve', 'Michel', 'John', 'Ram', 'Jules', 'Josh', 'Shaym', 'Stan','Hector','Tom'}\n",
    "# set A\n",
    "apple = {\"Ram\",\"Steve\",\"John\",\"Josh\",\"Jules\"}\n",
    "# set B\n",
    "ms = {\"Shaym\",\"Stan\",\"Michel\",\"Josh\",\"Jules\"}\n",
    "# A n B\n",
    "i = apple.intersection(ms)\n",
    "print(i)\n",
    "# A u B\n",
    "um = apple.union(ms)\n",
    "print (um)\n",
    "print (apple - ms)\n",
    "print (u-um)"
   ]
  },
  {
   "cell_type": "code",
   "execution_count": null,
   "id": "c45a6121",
   "metadata": {},
   "outputs": [],
   "source": [
    "# Only imutable inside set \n",
    "# cannot create list inside set , dictionary inside set, set inside set"
   ]
  },
  {
   "cell_type": "code",
   "execution_count": null,
   "id": "4310f5a8",
   "metadata": {},
   "outputs": [],
   "source": []
  }
 ],
 "metadata": {
  "kernelspec": {
   "display_name": "Python 3 (ipykernel)",
   "language": "python",
   "name": "python3"
  },
  "language_info": {
   "codemirror_mode": {
    "name": "ipython",
    "version": 3
   },
   "file_extension": ".py",
   "mimetype": "text/x-python",
   "name": "python",
   "nbconvert_exporter": "python",
   "pygments_lexer": "ipython3",
   "version": "3.10.9"
  }
 },
 "nbformat": 4,
 "nbformat_minor": 5
}
