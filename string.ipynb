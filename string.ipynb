{
 "cells": [
  {
   "cell_type": "code",
   "execution_count": 1,
   "id": "808a5dc9",
   "metadata": {},
   "outputs": [
    {
     "name": "stdout",
     "output_type": "stream",
     "text": [
      "<class 'str'> \n",
      " <class 'str'> \n",
      " <class 'str'>\n"
     ]
    }
   ],
   "source": [
    "#imutable datatype\n",
    "a = \" Hello this is Sneha. \"\n",
    "b = 'Hello this is Sneha. '\n",
    "c = '''Hello this is Sneha. '''\n",
    "print (type(a), \"\\n\" , type(b), \"\\n\", type(c))"
   ]
  },
  {
   "cell_type": "code",
   "execution_count": 2,
   "id": "f8bb968c",
   "metadata": {},
   "outputs": [
    {
     "name": "stdout",
     "output_type": "stream",
     "text": [
      "Hello everyone. Hello Hello \n"
     ]
    }
   ],
   "source": [
    "# + *\n",
    "a = \"Hello \"\n",
    "b = \"everyone.\"\n",
    "c = a+b\n",
    "print (c, a*2)"
   ]
  },
  {
   "cell_type": "code",
   "execution_count": 3,
   "id": "651cc548",
   "metadata": {},
   "outputs": [
    {
     "name": "stdout",
     "output_type": "stream",
     "text": [
      "H e l l o   "
     ]
    }
   ],
   "source": [
    "for i in a:\n",
    "    print(i , end= \" \")"
   ]
  },
  {
   "cell_type": "code",
   "execution_count": 14,
   "id": "6563be55",
   "metadata": {},
   "outputs": [
    {
     "name": "stdout",
     "output_type": "stream",
     "text": [
      "v\n",
      "ever\n",
      "Hloeeyn.\n",
      ".\n",
      ".enoyreve olleH\n"
     ]
    }
   ],
   "source": [
    "print (c[7])\n",
    "print (c[6:10])\n",
    "print (c[0:15:2])\n",
    "print (c[-1])\n",
    "print (c[::-1]) #reverse"
   ]
  },
  {
   "cell_type": "code",
   "execution_count": 11,
   "id": "5967acd8",
   "metadata": {},
   "outputs": [
    {
     "name": "stdout",
     "output_type": "stream",
     "text": [
      "palindrome \n"
     ]
    }
   ],
   "source": [
    "# palindrome\n",
    "num = \"56765\"\n",
    "rev = num[::-1]\n",
    "if rev==num:\n",
    "    print (\"palindrome \")\n",
    "else:\n",
    "    print (\"Not palindrome\")"
   ]
  },
  {
   "cell_type": "code",
   "execution_count": 17,
   "id": "55edcd27",
   "metadata": {},
   "outputs": [
    {
     "name": "stdout",
     "output_type": "stream",
     "text": [
      "15\n",
      "H e l l o   e v e r y o n e . "
     ]
    }
   ],
   "source": [
    "l = len(c)\n",
    "print (l)\n",
    "for i in range (l):\n",
    "    print(c[i], end= \" \")"
   ]
  },
  {
   "cell_type": "code",
   "execution_count": 19,
   "id": "19c4ea1f",
   "metadata": {},
   "outputs": [
    {
     "name": "stdout",
     "output_type": "stream",
     "text": [
      "H e l l o   e v e r y o n e . "
     ]
    }
   ],
   "source": [
    "i=0\n",
    "while i<l:\n",
    "    print(c[i], end= \" \")\n",
    "    i = i +1"
   ]
  },
  {
   "cell_type": "code",
   "execution_count": 22,
   "id": "00287571",
   "metadata": {},
   "outputs": [
    {
     "name": "stdout",
     "output_type": "stream",
     "text": [
      "Enter the sentence - Hello this is Sneha.\n",
      "6  \n",
      "11  \n",
      "14  \n"
     ]
    }
   ],
   "source": [
    "sen = input(\"Enter the sentence - \")\n",
    "l = len(sen)\n",
    "for i in range (l):\n",
    "    if sen[i]== \" \":\n",
    "        print (i+1, \" \")"
   ]
  },
  {
   "cell_type": "code",
   "execution_count": 28,
   "id": "7ce14a0d",
   "metadata": {},
   "outputs": [
    {
     "name": "stdout",
     "output_type": "stream",
     "text": [
      "Hello this is Nova. I am 17 years old. I live in Kathmandu\n",
      "Hello this is Nova. I am 17 years old. I live in Kathmandu.\n"
     ]
    }
   ],
   "source": [
    "# String formatting\n",
    "name = \"Nova\"\n",
    "age = 17\n",
    "add = \"Kathmandu\"\n",
    "info = \"Hello this is \"+ name+\". I am \"+str(age)+\" years old. I live in \"+ add\n",
    "print(info)\n",
    "inf = f\"Hello this is {name}. I am {age} years old. I live in {add}.\"\n",
    "print (inf)"
   ]
  },
  {
   "cell_type": "code",
   "execution_count": 4,
   "id": "81fd363d",
   "metadata": {},
   "outputs": [
    {
     "name": "stdout",
     "output_type": "stream",
     "text": [
      "Yes\n",
      "1\n",
      "2\n"
     ]
    }
   ],
   "source": [
    "# search in strirng\n",
    "n = \"Ava, Alex, Rhys, Bridget, Jules, Josh, Christan, Stella, Avalena\".lower()\n",
    "if \"jules\" in n:\n",
    "    print (\"Yes\")\n",
    "    print (n.count(\"alex\"))\n",
    "    print (n.count(\"ava\"))\n",
    "else:\n",
    "    print (\"No\")"
   ]
  },
  {
   "cell_type": "code",
   "execution_count": 5,
   "id": "e68e8bb8",
   "metadata": {},
   "outputs": [
    {
     "name": "stdout",
     "output_type": "stream",
     "text": [
      "AVA, ALEX, RHYS, BRIDGET, JULES, JOSH, CHRISTAN, STELLA, AVALENA\n",
      "ava, alex, rhys, bridget, jules, josh, christan, stella, avalena\n",
      "ava, alex, rhys, bridget, jules, josh, christan, stella, avalena\n"
     ]
    }
   ],
   "source": [
    "print (n.upper())\n",
    "print (n)\n",
    "print (n.lower())"
   ]
  },
  {
   "cell_type": "code",
   "execution_count": 6,
   "id": "458c0b0f",
   "metadata": {},
   "outputs": [
    {
     "name": "stdout",
     "output_type": "stream",
     "text": [
      "ava, alex, rhys, bridget, jules, josh, christan, stella, \n"
     ]
    }
   ],
   "source": [
    "# replace\n",
    "n = n.replace(\"avalena\",\"\")\n",
    "print (n)"
   ]
  },
  {
   "cell_type": "code",
   "execution_count": 49,
   "id": "06640270",
   "metadata": {},
   "outputs": [],
   "source": [
    "# isupper() , islower() , title()"
   ]
  },
  {
   "cell_type": "code",
   "execution_count": null,
   "id": "39217453",
   "metadata": {},
   "outputs": [],
   "source": []
  }
 ],
 "metadata": {
  "kernelspec": {
   "display_name": "Python 3 (ipykernel)",
   "language": "python",
   "name": "python3"
  },
  "language_info": {
   "codemirror_mode": {
    "name": "ipython",
    "version": 3
   },
   "file_extension": ".py",
   "mimetype": "text/x-python",
   "name": "python",
   "nbconvert_exporter": "python",
   "pygments_lexer": "ipython3",
   "version": "3.10.9"
  }
 },
 "nbformat": 4,
 "nbformat_minor": 5
}
