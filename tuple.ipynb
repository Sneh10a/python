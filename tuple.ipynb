{
 "cells": [
  {
   "cell_type": "code",
   "execution_count": null,
   "id": "6fd5dd48",
   "metadata": {},
   "outputs": [],
   "source": [
    "# tuple\n",
    "# Indexing \n",
    "# Ordered\n",
    "# Multiple and duplicate data\n",
    "# Imutable"
   ]
  },
  {
   "cell_type": "code",
   "execution_count": 1,
   "id": "b7a89282",
   "metadata": {},
   "outputs": [
    {
     "name": "stdout",
     "output_type": "stream",
     "text": [
      "<class 'tuple'>\n",
      "<class 'tuple'>\n"
     ]
    }
   ],
   "source": [
    "a = (1,2,3)\n",
    "b = (\"Bed\", \"Cupboard\", \"TV\")\n",
    "print (type(a))\n",
    "print (type(b))"
   ]
  },
  {
   "cell_type": "code",
   "execution_count": 2,
   "id": "2b50f127",
   "metadata": {},
   "outputs": [
    {
     "name": "stdout",
     "output_type": "stream",
     "text": [
      "<class 'int'>\n",
      "<class 'tuple'>\n"
     ]
    }
   ],
   "source": [
    "n = (1)\n",
    "print(type(n))\n",
    "m = (1,)\n",
    "print (type(m))"
   ]
  },
  {
   "cell_type": "code",
   "execution_count": 3,
   "id": "34fc41a8",
   "metadata": {},
   "outputs": [],
   "source": [
    "t = tuple()"
   ]
  },
  {
   "cell_type": "code",
   "execution_count": 4,
   "id": "5398c940",
   "metadata": {},
   "outputs": [
    {
     "name": "stdout",
     "output_type": "stream",
     "text": [
      "('The', 'Moon', 'Is', 'Beatiful', 23, 22, 56)\n",
      "Moon\n",
      "('Moon', 'Is')\n",
      "('The', 'Is', 23)\n"
     ]
    }
   ],
   "source": [
    "c = (\"The\",\"Moon\",\"Is\",\"Beatiful\",23,22,56)\n",
    "print(c)\n",
    "print(c[1])\n",
    "print(c[1:3])\n",
    "print(c[0:6:2])"
   ]
  },
  {
   "cell_type": "code",
   "execution_count": null,
   "id": "d3715665",
   "metadata": {},
   "outputs": [],
   "source": [
    "# min max sum"
   ]
  },
  {
   "cell_type": "code",
   "execution_count": 5,
   "id": "d7df3799",
   "metadata": {},
   "outputs": [],
   "source": [
    "# Imutable \n",
    "# cannot create\n",
    "# cannot use appned(), extend(), del, remove(), pop(), update, sort"
   ]
  },
  {
   "cell_type": "code",
   "execution_count": 6,
   "id": "36132f0f",
   "metadata": {},
   "outputs": [
    {
     "name": "stdout",
     "output_type": "stream",
     "text": [
      "(1, 2, 3, 4, 5, 6, 7)\n"
     ]
    }
   ],
   "source": [
    "a = (1,2,3,4,5)\n",
    "b = (6,7)\n",
    "c = a+b\n",
    "print(c)"
   ]
  },
  {
   "cell_type": "code",
   "execution_count": 7,
   "id": "4624405d",
   "metadata": {},
   "outputs": [
    {
     "name": "stdout",
     "output_type": "stream",
     "text": [
      "(1,)\n"
     ]
    }
   ],
   "source": [
    "a = ()\n",
    "b = (1,)\n",
    "a = a+b\n",
    "print (a)"
   ]
  },
  {
   "cell_type": "code",
   "execution_count": 8,
   "id": "591a8409",
   "metadata": {},
   "outputs": [
    {
     "name": "stdout",
     "output_type": "stream",
     "text": [
      "Enter the size - 5\n",
      "Enter the value - asdf\n",
      "Enter the value - asdfgh\n",
      "Enter the value - ghjk\n",
      "Enter the value - jhgfds\n",
      "Enter the value - sdfghj\n",
      "('asdf', 'asdfgh', 'ghjk', 'jhgfds', 'sdfghj')\n"
     ]
    }
   ],
   "source": [
    "n = int(input(\"Enter the size - \"))\n",
    "t = ()\n",
    "for i in range(n):\n",
    "    x = input (\"Enter the value - \")\n",
    "    t = t + (x,)\n",
    "print(t)"
   ]
  },
  {
   "cell_type": "code",
   "execution_count": 9,
   "id": "6ab605df",
   "metadata": {},
   "outputs": [
    {
     "name": "stdout",
     "output_type": "stream",
     "text": [
      "98765567\n",
      "654\n",
      "98869873\n"
     ]
    }
   ],
   "source": [
    "tu = (1233,34543,67876,98765567,654)\n",
    "print(max(tu))\n",
    "print(min(tu))\n",
    "print(sum(tu))"
   ]
  },
  {
   "cell_type": "code",
   "execution_count": 13,
   "id": "ef245887",
   "metadata": {},
   "outputs": [
    {
     "name": "stdout",
     "output_type": "stream",
     "text": [
      "[1233, 67876, 98765567, 654]\n",
      "[1233, 98765567, 654]\n",
      "(1233, 98765567, 654)\n"
     ]
    }
   ],
   "source": [
    "li = list(tu)\n",
    "print(li)\n",
    "del li[1]\n",
    "print (li)\n",
    "tu = tuple(li)\n",
    "print (tu)"
   ]
  },
  {
   "cell_type": "code",
   "execution_count": 14,
   "id": "00d1e1d8",
   "metadata": {},
   "outputs": [
    {
     "name": "stdout",
     "output_type": "stream",
     "text": [
      "((1, 2, 3), (4, 5, 6), (7, 8, 9))\n"
     ]
    }
   ],
   "source": [
    "# tuple insise tuple\n",
    "tp = ((1,2,3), (4,5,6), (7,8,9))\n",
    "print(tp)"
   ]
  },
  {
   "cell_type": "code",
   "execution_count": 16,
   "id": "49971ec7",
   "metadata": {},
   "outputs": [
    {
     "name": "stdout",
     "output_type": "stream",
     "text": [
      "Enter the size 2\n",
      "Enter the name - Sneha\n",
      "Enter the age - 17\n",
      "Enter the address - Kathmandu\n",
      "Enter the name - Vaish\n",
      "Enter the age - 18\n",
      "Enter the address - Gorakhpur\n",
      "(('Sneha', '17', 'Kathmandu'), ('Vaish', '18', 'Gorakhpur'))\n"
     ]
    }
   ],
   "source": [
    "info = ()\n",
    "n = int(input (\"Enter the size \"))\n",
    "for i in range(n):\n",
    "    name = input(\"Enter the name - \")\n",
    "    age = input(\"Enter the age - \")  \n",
    "    add = input(\"Enter the address - \")\n",
    "    info = info + ((name, age, add),)\n",
    "print(info)"
   ]
  },
  {
   "cell_type": "code",
   "execution_count": 19,
   "id": "a1011c88",
   "metadata": {},
   "outputs": [
    {
     "name": "stdout",
     "output_type": "stream",
     "text": [
      "[['Sneha', '17', 'Kathmandu'], ['Vaish', '18', 'Gorakhpur']]\n"
     ]
    }
   ],
   "source": [
    "l = []\n",
    "for i in info:\n",
    "    l.append(list(i))\n",
    "print(l)"
   ]
  },
  {
   "cell_type": "code",
   "execution_count": 5,
   "id": "c8eb6fa6",
   "metadata": {},
   "outputs": [
    {
     "ename": "TypeError",
     "evalue": "list indices must be integers or slices, not list",
     "output_type": "error",
     "traceback": [
      "\u001b[1;31m---------------------------------------------------------------------------\u001b[0m",
      "\u001b[1;31mTypeError\u001b[0m                                 Traceback (most recent call last)",
      "Cell \u001b[1;32mIn[5], line 7\u001b[0m\n\u001b[0;32m      5\u001b[0m k \u001b[38;5;241m=\u001b[39m i\n\u001b[0;32m      6\u001b[0m \u001b[38;5;28;01mfor\u001b[39;00m j \u001b[38;5;129;01min\u001b[39;00m li:\n\u001b[1;32m----> 7\u001b[0m     y \u001b[38;5;241m=\u001b[39m \u001b[43mli\u001b[49m\u001b[43m[\u001b[49m\u001b[43mk\u001b[49m\u001b[43m]\u001b[49m[j]\n\u001b[0;32m      8\u001b[0m     u \u001b[38;5;241m=\u001b[39m u \u001b[38;5;241m+\u001b[39m (\u001b[38;5;28mtuple\u001b[39m(y),)\n\u001b[0;32m      9\u001b[0m tu \u001b[38;5;241m=\u001b[39m tu \u001b[38;5;241m+\u001b[39m (u,)\n",
      "\u001b[1;31mTypeError\u001b[0m: list indices must be integers or slices, not list"
     ]
    }
   ],
   "source": [
    "# WAP to convert list inside list to tuple inside tuple\n",
    "li = [[1,2,3],[4,5,6],[7,8,9]]\n",
    "u = ()\n",
    "for i in li:\n",
    "    for j in li:\n",
    "        y = li[i][j]\n",
    "        u = u + (tuple(y),)\n",
    "    tu = tu + (u,)\n",
    "print (tu)"
   ]
  },
  {
   "cell_type": "code",
   "execution_count": null,
   "id": "9e7c9a46",
   "metadata": {},
   "outputs": [],
   "source": []
  }
 ],
 "metadata": {
  "kernelspec": {
   "display_name": "Python 3 (ipykernel)",
   "language": "python",
   "name": "python3"
  },
  "language_info": {
   "codemirror_mode": {
    "name": "ipython",
    "version": 3
   },
   "file_extension": ".py",
   "mimetype": "text/x-python",
   "name": "python",
   "nbconvert_exporter": "python",
   "pygments_lexer": "ipython3",
   "version": "3.10.9"
  }
 },
 "nbformat": 4,
 "nbformat_minor": 5
}
