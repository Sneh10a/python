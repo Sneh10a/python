{
 "cells": [
  {
   "cell_type": "code",
   "execution_count": 1,
   "id": "6d0bc059",
   "metadata": {},
   "outputs": [
    {
     "name": "stdout",
     "output_type": "stream",
     "text": [
      "Requirement already satisfied: mysql-connector in c:\\users\\user\\anaconda3\\lib\\site-packages (2.2.9)\n"
     ]
    }
   ],
   "source": [
    "!pip install mysql-connector"
   ]
  },
  {
   "cell_type": "code",
   "execution_count": null,
   "id": "0bb10ac8",
   "metadata": {},
   "outputs": [],
   "source": [
    "# create database \n",
    "import mysql.connector\n",
    "database = mysql.connector.connect(host=\"localhost\", user=\"root\", password=\"\")\n",
    "db = database.cursor()\n",
    "db.execute(\"CREATE DATABASE python class\")"
   ]
  },
  {
   "cell_type": "code",
   "execution_count": null,
   "id": "986f933d",
   "metadata": {},
   "outputs": [],
   "source": [
    "# create table\n",
    "import mysql.connector\n",
    "database = mysql.connector.connect(\n",
    "host=\"localhost\",user=\"root\",password=\"\",database = \"python class\")\n",
    "db = database.cursor()\n",
    "db.execute(“CREATE TABLE subject(id INT, nameVARCHAR(255))”)"
   ]
  },
  {
   "cell_type": "code",
   "execution_count": 4,
   "id": "7ead8079",
   "metadata": {},
   "outputs": [],
   "source": [
    "# creating object  # need to run each time\n",
    "import mysql.connector\n",
    "database = mysql.connector.connect(\n",
    "    host=\"localhost\",user=\"root\",password=\"\",database= \"python class\")\n",
    "db = database.cursor()"
   ]
  },
  {
   "cell_type": "code",
   "execution_count": 3,
   "id": "53e7faeb",
   "metadata": {},
   "outputs": [
    {
     "name": "stdout",
     "output_type": "stream",
     "text": [
      "(1, 'Sneha', 87.0, 86.0, 95.0, 93.0, 93.0, 454.0, 92.0, 'A')\n",
      "(3, 'Bree', 98.0, 90.0, 95.0, 98.0, 93.0, 474.0, 97.0, 'A')\n",
      "(4, 'Bee', 95.0, 99.0, 92.0, 93.0, 91.0, 570.0, 97.0, 'A')\n"
     ]
    }
   ],
   "source": [
    "# selecting \n",
    "db.execute(\"SELECT * FROM results WHERE Grade = 'A'\")\n",
    "result = db.fetchall()\n",
    "for x in result:\n",
    "    print(x)"
   ]
  },
  {
   "cell_type": "code",
   "execution_count": 12,
   "id": "78658d02",
   "metadata": {},
   "outputs": [],
   "source": [
    "#insert in database\n",
    "sql='''INSERT INTO `results`\n",
    "(`S.N.`, `Name`, `Physics`, `Chemistry`, `Maths`, `Computer`, `English`, `Total`, `Percentage`, `Grade`)\n",
    "VALUES (2, 'Cal', '85', '80', '82', '80', '78', '368', '79', 'C');'''\n",
    "db.execute(sql)\n",
    "database.commit()"
   ]
  },
  {
   "cell_type": "code",
   "execution_count": 8,
   "id": "88de7d54",
   "metadata": {},
   "outputs": [
    {
     "name": "stdout",
     "output_type": "stream",
     "text": [
      "Enter the marks of physics 98\n",
      "Enter the marks of maths 97\n",
      "Enter the marks of english 98\n",
      "Enter the marks of computer 94\n",
      "Enter the marks of chemistry 96\n",
      "Enter the name Decan\n"
     ]
    }
   ],
   "source": [
    "# WAP to entry all data in result table taking value as inpt from user \n",
    "phy = float(input(\"Enter the marks of physics \"))\n",
    "math = float(input(\"Enter the marks of maths \"))\n",
    "eng =  float(input(\"Enter the marks of english \"))\n",
    "com = float(input(\"Enter the marks of computer \"))\n",
    "chem = float(input(\"Enter the marks of chemistry \"))\n",
    "n = input(\"Enter the name \")\n",
    "if (phy>50) & (math>50) & (eng>50) & (com>50)&(chem>50):\n",
    "    Total = phy+math+eng+com+chem\n",
    "    per = Total/5\n",
    "    if per >= 90:\n",
    "        grade = \"A1\"\n",
    "    elif per >= 80:\n",
    "        grade = \"A\"\n",
    "    elif per >= 70:\n",
    "        grade =\"B1\"\n",
    "    elif per >= 60:\n",
    "        grade = \"B\"\n",
    "    elif per >= 50:\n",
    "        grade = \"C\"\n",
    "    else:\n",
    "        grade=\"F\"\n",
    "\n",
    "sql=f'''INSERT INTO `results` \n",
    "(`S.N.`, `Name`, `Physics`, `Chemistry`, `Maths`, `Computer`, `English`, `Total`, `Percentage`, `Grade`)\n",
    "VALUES (NULL, '{n}',{phy},{chem},{math},{com},{eng},{Total},{per},'{grade}');''' # 'single quote' only in varchar\n",
    "db.execute(sql)\n",
    "database.commit()"
   ]
  },
  {
   "cell_type": "code",
   "execution_count": 10,
   "id": "cb20c330",
   "metadata": {},
   "outputs": [],
   "source": [
    "# update\n",
    "sql = \"UPDATE results SET Grade = 'A' WHERE Name = 'Levi'\"\n",
    "db.execute(sql)\n",
    "database.commit()"
   ]
  },
  {
   "cell_type": "code",
   "execution_count": 13,
   "id": "308d458c",
   "metadata": {},
   "outputs": [],
   "source": [
    "# delete\n",
    "sql = \"DELETE FROM results WHERE Name = 'Nova' and Grade = 'D'\"\n",
    "db.execute(sql)\n",
    "database.commit()"
   ]
  },
  {
   "cell_type": "code",
   "execution_count": null,
   "id": "29fac0a4",
   "metadata": {},
   "outputs": [],
   "source": []
  }
 ],
 "metadata": {
  "kernelspec": {
   "display_name": "Python 3 (ipykernel)",
   "language": "python",
   "name": "python3"
  },
  "language_info": {
   "codemirror_mode": {
    "name": "ipython",
    "version": 3
   },
   "file_extension": ".py",
   "mimetype": "text/x-python",
   "name": "python",
   "nbconvert_exporter": "python",
   "pygments_lexer": "ipython3",
   "version": "3.10.9"
  }
 },
 "nbformat": 4,
 "nbformat_minor": 5
}
