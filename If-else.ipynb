{
 "cells": [
  {
   "cell_type": "code",
   "execution_count": 2,
   "id": "3f5573bb",
   "metadata": {},
   "outputs": [],
   "source": [
    "# if <condition>:\n",
    "# <operation>\n",
    "# elif <condition>:\n",
    "# <operation>\n",
    "# else:\n",
    "# <operation>\n",
    "# comparition operators\n",
    "# <> <= >= == !="
   ]
  },
  {
   "cell_type": "code",
   "execution_count": 5,
   "id": "38aa8fdf",
   "metadata": {},
   "outputs": [
    {
     "name": "stdout",
     "output_type": "stream",
     "text": [
      "Enter a value45\n",
      "45 is +ve\n"
     ]
    }
   ],
   "source": [
    "a = int(input(\"Enter a value\"))\n",
    "if a>0:\n",
    "    print (a,\"is +ve\")\n",
    "elif a<0:\n",
    "    print (a, \"is -ve\")\n",
    "else:\n",
    "    print (a, \"is equal to 0\")"
   ]
  },
  {
   "cell_type": "code",
   "execution_count": 10,
   "id": "f7049b70",
   "metadata": {},
   "outputs": [
    {
     "name": "stdout",
     "output_type": "stream",
     "text": [
      "Enter a value 23\n",
      "23 is odd\n"
     ]
    }
   ],
   "source": [
    "b = int(input(\"Enter a value \"))\n",
    "if b%2==0:\n",
    "    print (b,\"is even\")\n",
    "else:\n",
    "    print (b, \"is odd\")"
   ]
  },
  {
   "cell_type": "code",
   "execution_count": 11,
   "id": "2303079c",
   "metadata": {},
   "outputs": [
    {
     "name": "stdout",
     "output_type": "stream",
     "text": [
      "45 is greater than 23\n"
     ]
    }
   ],
   "source": [
    "if a>b:\n",
    "    print(a,\"is greater than\", b)\n",
    "elif a<b:\n",
    "    print(a,\" is smaller than\", b)\n",
    "else:\n",
    "    print(a, \"=\", b)"
   ]
  },
  {
   "cell_type": "code",
   "execution_count": 40,
   "id": "f027fd2f",
   "metadata": {},
   "outputs": [
    {
     "name": "stdout",
     "output_type": "stream",
     "text": [
      "Enter a value 98\n",
      "Enter a value 2\n",
      "Enter a operator (+ - * /) /\n",
      "49.0\n"
     ]
    }
   ],
   "source": [
    "n1 = int(input(\"Enter a value \"))\n",
    "n2 = int(input(\"Enter a value \"))\n",
    "o = str(input(\"Enter a operator (+ - * /) \"))\n",
    "if o== \"+\":\n",
    "    print (n1+n2)\n",
    "elif o== \"-\":\n",
    "    print (n1-n2)\n",
    "elif o==\"*\":\n",
    "    print (n1*n2)\n",
    "elif o==\"/\":\n",
    "    print (n1/n2)\n",
    "else:\n",
    "    print(\"Invalid input\")\n",
    "    "
   ]
  },
  {
   "cell_type": "code",
   "execution_count": 39,
   "id": "5b885285",
   "metadata": {},
   "outputs": [],
   "source": [
    "# logical operator\n",
    "# and &\n",
    "# or |\n",
    "# not "
   ]
  },
  {
   "cell_type": "code",
   "execution_count": 28,
   "id": "c4d1f319",
   "metadata": {},
   "outputs": [
    {
     "name": "stdout",
     "output_type": "stream",
     "text": [
      "Enter the marks of physics 45\n",
      "Enter the marks of maths 67\n",
      "Enter the marks of english 89\n",
      "Enter the marks of computer 76\n",
      "Enter the marks of chemistry 56\n",
      "Fail\n"
     ]
    }
   ],
   "source": [
    "phy = float(input(\"Enter the marks of physics \"))\n",
    "math = float(input(\"Enter the marks of maths \"))\n",
    "eng =  float(input(\"Enter the marks of english \"))\n",
    "com = float(input(\"Enter the marks of computer \"))\n",
    "chem = float(input(\"Enter the marks of chemistry \"))\n",
    "if (phy>50) & (math>50) & (eng>50) & (com>50)&(chem>50):\n",
    "    Total = phy+math+eng+com+chem\n",
    "    per = Total/5\n",
    "    if per >= 90:\n",
    "        grade = \"A1\"\n",
    "    elif per >= 80:\n",
    "        grade = \"A\"\n",
    "    elif per >= 70:\n",
    "        grade =\"B1\"\n",
    "    elif per >= 60:\n",
    "        grade = \"B\"\n",
    "    elif per >= 50:\n",
    "        grade = \"C\"\n",
    "    else:\n",
    "        grade=\"F\"\n",
    "    print(\"The total is\",Total)\n",
    "    print(\"The total percentage is\", per)\n",
    "    print(\"The grade is\",grade)\n",
    "else:\n",
    "    print(\"Fail\")"
   ]
  },
  {
   "cell_type": "code",
   "execution_count": 43,
   "id": "3a687c57",
   "metadata": {},
   "outputs": [
    {
     "name": "stdout",
     "output_type": "stream",
     "text": [
      "Enter a value 98\n",
      "Enter a value 0\n",
      "Enter a operator (+ - * /) /\n",
      "Invalid input\n"
     ]
    }
   ],
   "source": [
    "n1 = int(input(\"Enter a value \"))\n",
    "n2 = int(input(\"Enter a value \"))\n",
    "o = str(input(\"Enter a operator (+ - * /) \"))\n",
    "if o== \"+\":\n",
    "    print (n1+n2)\n",
    "elif o== \"-\":\n",
    "    print (n1-n2)\n",
    "elif o==\"*\":\n",
    "    print (n1*n2)\n",
    "elif (o==\"/\") & (n2!=0):\n",
    "    print (n1/n2)\n",
    "else:\n",
    "    print(\"Invalid input\")\n",
    "    "
   ]
  },
  {
   "cell_type": "code",
   "execution_count": null,
   "id": "3223191c",
   "metadata": {},
   "outputs": [],
   "source": []
  }
 ],
 "metadata": {
  "kernelspec": {
   "display_name": "Python 3 (ipykernel)",
   "language": "python",
   "name": "python3"
  },
  "language_info": {
   "codemirror_mode": {
    "name": "ipython",
    "version": 3
   },
   "file_extension": ".py",
   "mimetype": "text/x-python",
   "name": "python",
   "nbconvert_exporter": "python",
   "pygments_lexer": "ipython3",
   "version": "3.10.9"
  }
 },
 "nbformat": 4,
 "nbformat_minor": 5
}
