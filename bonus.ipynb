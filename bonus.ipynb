{
 "cells": [
  {
   "cell_type": "markdown",
   "id": "813d8395",
   "metadata": {},
   "source": [
    " # date and time"
   ]
  },
  {
   "cell_type": "code",
   "execution_count": 13,
   "id": "f3839e48",
   "metadata": {},
   "outputs": [
    {
     "name": "stdout",
     "output_type": "stream",
     "text": [
      "2023-06-19 08:33:09.760012\n",
      "2023\n",
      "6\n",
      "19\n",
      "8\n"
     ]
    }
   ],
   "source": [
    "import datetime as dt\n",
    "x = dt.datetime.now()\n",
    "print(x)\n",
    "print(x.year)\n",
    "print(x.month)\n",
    "print(x.day)\n",
    "print(x.hour)"
   ]
  },
  {
   "cell_type": "code",
   "execution_count": 8,
   "id": "3693d727",
   "metadata": {},
   "outputs": [
    {
     "name": "stdout",
     "output_type": "stream",
     "text": [
      "Monday\n",
      "Mon\n",
      "June\n",
      "Jun\n",
      "20\n",
      "Mon Jun 19 08:26:11 2023\n",
      "06/19/23\n",
      "19\n"
     ]
    }
   ],
   "source": [
    "print(x.strftime(\"%A\"))\n",
    "print(x.strftime(\"%a\"))\n",
    "print(x.strftime(\"%B\"))\n",
    "print(x.strftime(\"%b\"))\n",
    "print(x.strftime(\"%C\"))\n",
    "print(x.strftime(\"%c\"))\n",
    "print(x.strftime(\"%D\"))\n",
    "print(x.strftime(\"%d\"))"
   ]
  },
  {
   "cell_type": "code",
   "execution_count": 12,
   "id": "cf5b4e3d",
   "metadata": {},
   "outputs": [
    {
     "name": "stdout",
     "output_type": "stream",
     "text": [
      "0:00:45.276739\n"
     ]
    }
   ],
   "source": [
    "y = dt.datetime.now()\n",
    "print(y-x)"
   ]
  },
  {
   "cell_type": "code",
   "execution_count": 21,
   "id": "67dbe227",
   "metadata": {},
   "outputs": [
    {
     "name": "stdout",
     "output_type": "stream",
     "text": [
      "Enter opt code - 586\n",
      "Please collect your cash\n"
     ]
    }
   ],
   "source": [
    "l = dt.datetime.now().second\n",
    "otp = input (\"Enter opt code - \")\n",
    "u = dt.datetime.now().second\n",
    "if u-l < 30:\n",
    "    print (\"Please collect your cash\")\n",
    "else:\n",
    "    print (\"Time is up\")"
   ]
  },
  {
   "cell_type": "markdown",
   "id": "ee27ed83",
   "metadata": {},
   "source": [
    "# os package"
   ]
  },
  {
   "cell_type": "code",
   "execution_count": 2,
   "id": "366f1816",
   "metadata": {},
   "outputs": [
    {
     "data": {
      "text/plain": [
       "['.ipynb_checkpoints',\n",
       " 'basics.ipynb',\n",
       " 'bonus.ipynb',\n",
       " 'books.csv',\n",
       " 'data.csv',\n",
       " 'data.txt',\n",
       " 'data1.txt',\n",
       " 'dictionary.ipynb',\n",
       " 'file.ipynb',\n",
       " 'Folder',\n",
       " 'function.ipynb',\n",
       " 'If-else.ipynb',\n",
       " 'inheritance.ipynb',\n",
       " 'lists.ipynb',\n",
       " 'loop.ipynb',\n",
       " 'Newpanada.csv',\n",
       " 'oop.ipynb',\n",
       " 'Panda.csv',\n",
       " 'panda.ipynb',\n",
       " 'sets.ipynb',\n",
       " 'sql.ipynb',\n",
       " 'string.ipynb',\n",
       " 'tuple.ipynb']"
      ]
     },
     "execution_count": 2,
     "metadata": {},
     "output_type": "execute_result"
    }
   ],
   "source": [
    "import os\n",
    "os.listdir()"
   ]
  },
  {
   "cell_type": "code",
   "execution_count": 46,
   "id": "96e7e58c",
   "metadata": {},
   "outputs": [],
   "source": [
    "os.mkdir(\"newfolder\")\n",
    "os.chdir(\"newfolder\")"
   ]
  },
  {
   "cell_type": "code",
   "execution_count": 47,
   "id": "99bf9f4d",
   "metadata": {},
   "outputs": [
    {
     "data": {
      "text/plain": [
       "'C:\\\\Users\\\\user\\\\Python class\\\\newfolder\\\\newfolder\\\\newfolder\\\\newfolder'"
      ]
     },
     "execution_count": 47,
     "metadata": {},
     "output_type": "execute_result"
    }
   ],
   "source": [
    "pwd"
   ]
  },
  {
   "cell_type": "code",
   "execution_count": 73,
   "id": "5565eaf4",
   "metadata": {},
   "outputs": [
    {
     "name": "stdout",
     "output_type": "stream",
     "text": [
      "C:\\Users\\user\\Python class\n"
     ]
    }
   ],
   "source": [
    "cd .."
   ]
  },
  {
   "cell_type": "code",
   "execution_count": 74,
   "id": "262cd450",
   "metadata": {},
   "outputs": [],
   "source": [
    "os.rename('newfolder','Folder')"
   ]
  },
  {
   "cell_type": "code",
   "execution_count": 3,
   "id": "0aa92d33",
   "metadata": {},
   "outputs": [
    {
     "ename": "OSError",
     "evalue": "[WinError 145] The directory is not empty: 'Folder'",
     "output_type": "error",
     "traceback": [
      "\u001b[1;31m---------------------------------------------------------------------------\u001b[0m",
      "\u001b[1;31mOSError\u001b[0m                                   Traceback (most recent call last)",
      "Cell \u001b[1;32mIn[3], line 1\u001b[0m\n\u001b[1;32m----> 1\u001b[0m \u001b[43mos\u001b[49m\u001b[38;5;241;43m.\u001b[39;49m\u001b[43mrmdir\u001b[49m\u001b[43m(\u001b[49m\u001b[38;5;124;43m\"\u001b[39;49m\u001b[38;5;124;43mFolder\u001b[39;49m\u001b[38;5;124;43m\"\u001b[39;49m\u001b[43m)\u001b[49m\n",
      "\u001b[1;31mOSError\u001b[0m: [WinError 145] The directory is not empty: 'Folder'"
     ]
    }
   ],
   "source": [
    "os.rmdir(\"Folder\")"
   ]
  },
  {
   "cell_type": "markdown",
   "id": "458e8afe",
   "metadata": {},
   "source": [
    "# comprehensions, list, dictionary"
   ]
  },
  {
   "cell_type": "code",
   "execution_count": 54,
   "id": "d997f375",
   "metadata": {},
   "outputs": [
    {
     "name": "stdout",
     "output_type": "stream",
     "text": [
      "[0, 1, 2, 3, 4, 5, 6, 7, 8, 9]\n"
     ]
    }
   ],
   "source": [
    "l = [i for i in range(10)]\n",
    "print(l)"
   ]
  },
  {
   "cell_type": "code",
   "execution_count": 56,
   "id": "6790f517",
   "metadata": {},
   "outputs": [
    {
     "name": "stdout",
     "output_type": "stream",
     "text": [
      "Enter value = 2\n",
      "Enter value = 4\n",
      "Enter value = 6\n",
      "Enter value = 8\n",
      "Enter value = 0\n",
      "Enter value = 9\n",
      "Enter value = 7\n",
      "Enter value = 5\n",
      "Enter value = 3\n",
      "Enter value = 1\n",
      "['2', '4', '6', '8', '0', '9', '7', '5', '3', '1']\n"
     ]
    }
   ],
   "source": [
    "l = [input(\"Enter value = \") for i in range(10)]\n",
    "print(l)"
   ]
  },
  {
   "cell_type": "code",
   "execution_count": 61,
   "id": "5867d9dd",
   "metadata": {},
   "outputs": [
    {
     "name": "stdout",
     "output_type": "stream",
     "text": [
      "['lily', 'daisy', 'sunflower', 'lotus', 'olive']\n"
     ]
    }
   ],
   "source": [
    "lis = [\"Lily\",\"daisy\",\"sunflower\",\"lotus\",\"Olive\"]\n",
    "data = [i.lower() for i in lis]\n",
    "print(data)"
   ]
  },
  {
   "cell_type": "code",
   "execution_count": 67,
   "id": "0d9f03be",
   "metadata": {},
   "outputs": [
    {
     "name": "stdout",
     "output_type": "stream",
     "text": [
      "{'Lily': 'lily', 'daisy': 'daisy', 'sunflower': 'sunflower', 'lotus': 'lotus', 'Olive': 'olive'}\n",
      "dict_values(['lily', 'daisy', 'sunflower', 'lotus', 'olive'])\n",
      "[('Lily', 'lily'), ('daisy', 'daisy'), ('sunflower', 'sunflower'), ('lotus', 'lotus'), ('Olive', 'olive')]\n"
     ]
    }
   ],
   "source": [
    "d = {i:i.lower() for i in lis}\n",
    "print(d)\n",
    "print(d.values())\n",
    "print(list(d.items()))"
   ]
  },
  {
   "cell_type": "code",
   "execution_count": 69,
   "id": "1f489039",
   "metadata": {},
   "outputs": [
    {
     "name": "stdout",
     "output_type": "stream",
     "text": [
      "Enter name - Declan\n",
      "Enter number - 94563345687\n",
      "Enter name - Iris\n",
      "Enter number - 854523856\n",
      "Enter name - Cal\n",
      "Enter number - 5567876523\n",
      "Enter name - Zahara\n",
      "Enter number - 545678567809\n",
      "Enter name - Rowan\n",
      "Enter number - 876788655678\n",
      "{'Declan': '94563345687', 'Iris': '854523856', 'Cal': '5567876523', 'Zahara': '545678567809', 'Rowan': '876788655678'}\n"
     ]
    }
   ],
   "source": [
    "ph = {input(\"Enter name - \"):input(\"Enter number - \") for i in range (5)}\n",
    "print (ph)"
   ]
  }
 ],
 "metadata": {
  "kernelspec": {
   "display_name": "Python 3 (ipykernel)",
   "language": "python",
   "name": "python3"
  },
  "language_info": {
   "codemirror_mode": {
    "name": "ipython",
    "version": 3
   },
   "file_extension": ".py",
   "mimetype": "text/x-python",
   "name": "python",
   "nbconvert_exporter": "python",
   "pygments_lexer": "ipython3",
   "version": "3.10.9"
  }
 },
 "nbformat": 4,
 "nbformat_minor": 5
}
