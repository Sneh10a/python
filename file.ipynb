{
 "cells": [
  {
   "cell_type": "code",
   "execution_count": null,
   "id": "36b0e428",
   "metadata": {},
   "outputs": [],
   "source": [
    "# file\n",
    "# file = open('<file name>','<modes>')\n",
    "# file.close()\n",
    "# with open('<file name>','<modes>') as file:\n",
    "#     <operation>\n",
    "\n",
    "# mode\n",
    "# create -> x\n",
    "# read -> r\n",
    "# write -> w\n",
    "# oppend -> a "
   ]
  },
  {
   "cell_type": "code",
   "execution_count": 6,
   "id": "77acee92",
   "metadata": {},
   "outputs": [],
   "source": [
    "try:\n",
    "    file = open('data.txt','x')\n",
    "    file.close()\n",
    "except:\n",
    "    print(\"The file already exists\")"
   ]
  },
  {
   "cell_type": "code",
   "execution_count": 9,
   "id": "510f110f",
   "metadata": {},
   "outputs": [
    {
     "name": "stdout",
     "output_type": "stream",
     "text": [
      "1.Hello \n",
      "2.Hola\n",
      "3.Hi\n"
     ]
    }
   ],
   "source": [
    "file = open('data.txt','r')\n",
    "y = file.read()\n",
    "print(y)\n",
    "file.close()"
   ]
  },
  {
   "cell_type": "code",
   "execution_count": 10,
   "id": "54d002a1",
   "metadata": {},
   "outputs": [
    {
     "data": {
      "text/plain": [
       "str"
      ]
     },
     "execution_count": 10,
     "metadata": {},
     "output_type": "execute_result"
    }
   ],
   "source": [
    "type (y)"
   ]
  },
  {
   "cell_type": "code",
   "execution_count": 11,
   "id": "856c33d6",
   "metadata": {},
   "outputs": [
    {
     "name": "stdout",
     "output_type": "stream",
     "text": [
      "['1.Hello ', '2.Hola', '3.Hi']\n",
      "Enter - 1\n"
     ]
    },
    {
     "data": {
      "text/plain": [
       "'1.Hello '"
      ]
     },
     "execution_count": 11,
     "metadata": {},
     "output_type": "execute_result"
    }
   ],
   "source": [
    "z = y.split('\\n')\n",
    "print(z)\n",
    "\n",
    "i = int(input(\"Enter - \"))\n",
    "z[i-1]"
   ]
  },
  {
   "cell_type": "code",
   "execution_count": 12,
   "id": "d609c1da",
   "metadata": {},
   "outputs": [],
   "source": [
    "file = open('data1.txt','w')\n",
    "file.write('Hola')\n",
    "file.close()"
   ]
  },
  {
   "cell_type": "code",
   "execution_count": 31,
   "id": "12eb8663",
   "metadata": {},
   "outputs": [
    {
     "name": "stdout",
     "output_type": "stream",
     "text": [
      "Enter the number of items - 2\n",
      "product name - gems\n",
      "product price - 5\n",
      "product quantity - 10\n",
      "product name - kitkat\n",
      "product price - 20\n",
      "product quantity - 4\n",
      "gems,5,10,50\n",
      "kitkat,20,4,80\n",
      "\n"
     ]
    }
   ],
   "source": [
    "num = int (input(\"Enter the number of items - \"))\n",
    "bill =\"\"\n",
    "for i in range (1,num+1):\n",
    "    n = input(\"product name - \")\n",
    "    p = int(input(\"product price - \"))\n",
    "    qty = int(input(\"product quantity - \"))\n",
    "    total = p*qty\n",
    "    data = f\"{n},{p},{qty},{total}\\n\"\n",
    "    bill = bill + data\n",
    "print(bill)\n",
    "\n",
    "file = open('data.txt','w')\n",
    "file.write(bill)\n",
    "file.close()"
   ]
  },
  {
   "cell_type": "code",
   "execution_count": 33,
   "id": "a821ba71",
   "metadata": {},
   "outputs": [
    {
     "name": "stdout",
     "output_type": "stream",
     "text": [
      "Enter the number of items - 1\n",
      "product name - milkyway\n",
      "product price - 20\n",
      "product quantity - 5\n",
      "milkyway,20,5,100\n",
      "\n"
     ]
    }
   ],
   "source": [
    "num = int (input(\"Enter the number of items - \"))\n",
    "bill =\"\"\n",
    "for i in range (1,num+1):\n",
    "    n = input(\"product name - \")\n",
    "    p = int(input(\"product price - \"))\n",
    "    qty = int(input(\"product quantity - \"))\n",
    "    total = p*qty\n",
    "    data = f\"{n},{p},{qty},{total}\\n\"\n",
    "    bill = bill + data\n",
    "print(bill)\n",
    "\n",
    "file = open('data.txt','a')\n",
    "file.write(bill)\n",
    "file.close()"
   ]
  },
  {
   "cell_type": "code",
   "execution_count": 4,
   "id": "1a03f6dd",
   "metadata": {},
   "outputs": [
    {
     "name": "stdout",
     "output_type": "stream",
     "text": [
      "gems,5,10,50\n",
      "kitkat,20,4,80\n",
      "milkyway,20,5,100\n",
      "\n"
     ]
    }
   ],
   "source": [
    "file = open('data.txt','r')\n",
    "x = file.read()\n",
    "print(x)\n",
    "file.close()"
   ]
  },
  {
   "cell_type": "code",
   "execution_count": 5,
   "id": "ff6d7e65",
   "metadata": {},
   "outputs": [
    {
     "data": {
      "text/plain": [
       "['gems,5,10,50', 'kitkat,20,4,80', 'milkyway,20,5,100']"
      ]
     },
     "execution_count": 5,
     "metadata": {},
     "output_type": "execute_result"
    }
   ],
   "source": [
    "y = x.split('\\n')[0:-1]\n",
    "y"
   ]
  },
  {
   "cell_type": "code",
   "execution_count": 8,
   "id": "17497d9a",
   "metadata": {},
   "outputs": [
    {
     "data": {
      "text/plain": [
       "[['gems', '5', '10', '50'],\n",
       " ['kitkat', '20', '4', '80'],\n",
       " ['milkyway', '20', '5', '100']]"
      ]
     },
     "execution_count": 8,
     "metadata": {},
     "output_type": "execute_result"
    }
   ],
   "source": [
    "bill = []\n",
    "for i in y:\n",
    "    bill.append(i.split(','))\n",
    "    \n",
    "bill"
   ]
  },
  {
   "cell_type": "code",
   "execution_count": 9,
   "id": "20bd52c9",
   "metadata": {},
   "outputs": [
    {
     "name": "stdout",
     "output_type": "stream",
     "text": [
      "230\n"
     ]
    }
   ],
   "source": [
    "s = 0\n",
    "for i in bill:\n",
    "    s = s + int(i[-1])\n",
    "print(s)"
   ]
  },
  {
   "cell_type": "code",
   "execution_count": 43,
   "id": "24ff2ab7",
   "metadata": {},
   "outputs": [
    {
     "name": "stdout",
     "output_type": "stream",
     "text": [
      "Enter the number of items - 2\n",
      "product name - Cream\n",
      "product price - 230\n",
      "product quantity - 2\n",
      "product name - blush\n",
      "product price - 250\n",
      "product quantity - 3\n",
      "Cream,230,2,460\n",
      "blush,250,3,750\n",
      "\n"
     ]
    }
   ],
   "source": [
    "num = int (input(\"Enter the number of items - \"))\n",
    "bill =\"\"\n",
    "for i in range (num):\n",
    "    n = input(\"product name - \")\n",
    "    p = int(input(\"product price - \"))\n",
    "    qty = int(input(\"product quantity - \"))\n",
    "    total = p*qty\n",
    "    data = f\"{n},{p},{qty},{total}\\n\"\n",
    "    bill = bill + data\n",
    "print(bill)\n",
    "\n",
    "file = open('data.csv','w')\n",
    "file.write('Name,Price,Quantity,Total\\n')\n",
    "file.write(bill)\n",
    "file.close()"
   ]
  },
  {
   "cell_type": "code",
   "execution_count": 1,
   "id": "9cb73bb6",
   "metadata": {},
   "outputs": [
    {
     "data": {
      "text/html": [
       "<div>\n",
       "<style scoped>\n",
       "    .dataframe tbody tr th:only-of-type {\n",
       "        vertical-align: middle;\n",
       "    }\n",
       "\n",
       "    .dataframe tbody tr th {\n",
       "        vertical-align: top;\n",
       "    }\n",
       "\n",
       "    .dataframe thead th {\n",
       "        text-align: right;\n",
       "    }\n",
       "</style>\n",
       "<table border=\"1\" class=\"dataframe\">\n",
       "  <thead>\n",
       "    <tr style=\"text-align: right;\">\n",
       "      <th></th>\n",
       "      <th>Name</th>\n",
       "      <th>Price</th>\n",
       "      <th>Quantity</th>\n",
       "      <th>Total</th>\n",
       "    </tr>\n",
       "  </thead>\n",
       "  <tbody>\n",
       "    <tr>\n",
       "      <th>0</th>\n",
       "      <td>Cream</td>\n",
       "      <td>230</td>\n",
       "      <td>2</td>\n",
       "      <td>460</td>\n",
       "    </tr>\n",
       "    <tr>\n",
       "      <th>1</th>\n",
       "      <td>blush</td>\n",
       "      <td>250</td>\n",
       "      <td>3</td>\n",
       "      <td>750</td>\n",
       "    </tr>\n",
       "  </tbody>\n",
       "</table>\n",
       "</div>"
      ],
      "text/plain": [
       "    Name  Price  Quantity  Total\n",
       "0  Cream    230         2    460\n",
       "1  blush    250         3    750"
      ]
     },
     "execution_count": 1,
     "metadata": {},
     "output_type": "execute_result"
    }
   ],
   "source": [
    "import pandas as pd\n",
    "df = pd.read_csv('data.csv')\n",
    "df"
   ]
  },
  {
   "cell_type": "code",
   "execution_count": null,
   "id": "d9ef92e6",
   "metadata": {},
   "outputs": [],
   "source": []
  },
  {
   "cell_type": "code",
   "execution_count": null,
   "id": "d106321b",
   "metadata": {},
   "outputs": [],
   "source": []
  },
  {
   "cell_type": "code",
   "execution_count": null,
   "id": "f22eb920",
   "metadata": {},
   "outputs": [],
   "source": []
  },
  {
   "cell_type": "code",
   "execution_count": null,
   "id": "f09cb72e",
   "metadata": {},
   "outputs": [],
   "source": []
  }
 ],
 "metadata": {
  "kernelspec": {
   "display_name": "Python 3 (ipykernel)",
   "language": "python",
   "name": "python3"
  },
  "language_info": {
   "codemirror_mode": {
    "name": "ipython",
    "version": 3
   },
   "file_extension": ".py",
   "mimetype": "text/x-python",
   "name": "python",
   "nbconvert_exporter": "python",
   "pygments_lexer": "ipython3",
   "version": "3.10.9"
  }
 },
 "nbformat": 4,
 "nbformat_minor": 5
}
