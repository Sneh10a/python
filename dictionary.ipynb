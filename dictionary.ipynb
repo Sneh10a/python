{
 "cells": [
  {
   "cell_type": "code",
   "execution_count": 1,
   "id": "373b8b33",
   "metadata": {},
   "outputs": [],
   "source": [
    "# Dictionary\n",
    "# - Indexing\n",
    "# - ordered\n",
    "# - mutable\n",
    "# - multiple and duplicate data"
   ]
  },
  {
   "cell_type": "code",
   "execution_count": 4,
   "id": "50e247f1",
   "metadata": {},
   "outputs": [],
   "source": [
    "d = {}\n",
    "di = dict ()\n",
    "# d = {<key>:<value>,<key>:<value>}"
   ]
  },
  {
   "cell_type": "code",
   "execution_count": 5,
   "id": "97fcc04f",
   "metadata": {},
   "outputs": [
    {
     "name": "stdout",
     "output_type": "stream",
     "text": [
      "<class 'dict'>\n",
      "{'a': 'Hey', 'b': 'hola', 'c': 'Hi'}\n",
      "Hey\n",
      "3\n"
     ]
    }
   ],
   "source": [
    "d = {'a': 'Hey', 'b' : 'hola' , 'c' : 'Hi' }\n",
    "print (type(d))\n",
    "print (d)\n",
    "print (d ['a'])\n",
    "print (len(d))"
   ]
  },
  {
   "cell_type": "code",
   "execution_count": 6,
   "id": "58bd7c21",
   "metadata": {},
   "outputs": [
    {
     "name": "stdout",
     "output_type": "stream",
     "text": [
      "{'a': 'Hellu', 'b': 'hola', 'c': 'hola'}\n"
     ]
    }
   ],
   "source": [
    "d = {'a': 'Hey', 'b' : 'hola' , 'c' : 'hola' , 'a' : 'Hellu'}\n",
    "print (d)"
   ]
  },
  {
   "cell_type": "code",
   "execution_count": null,
   "id": "9385a897",
   "metadata": {},
   "outputs": [],
   "source": [
    "# cannot use + or *"
   ]
  },
  {
   "cell_type": "code",
   "execution_count": 7,
   "id": "8a0ad9fe",
   "metadata": {},
   "outputs": [
    {
     "name": "stdout",
     "output_type": "stream",
     "text": [
      "{'a': 'Hellu', 'b': 'hola', 'c': 'hola', 'd': 'Ni hao'}\n"
     ]
    }
   ],
   "source": [
    "n = {'d' : 'Ni hao'}\n",
    "d.update(n)\n",
    "print(d)"
   ]
  },
  {
   "cell_type": "code",
   "execution_count": 8,
   "id": "8636b27a",
   "metadata": {},
   "outputs": [
    {
     "name": "stdout",
     "output_type": "stream",
     "text": [
      "{'a': 'ALL', 'b': 'Everything', 'c': 'Something'}\n"
     ]
    }
   ],
   "source": [
    "# creating a dictionary\n",
    "e = {}\n",
    "e['a'] = \"ALL\"\n",
    "e['b'] = \"Everything\"\n",
    "e['c'] = \"Something\"\n",
    "print(e)"
   ]
  },
  {
   "cell_type": "code",
   "execution_count": 9,
   "id": "e907f92a",
   "metadata": {},
   "outputs": [
    {
     "name": "stdout",
     "output_type": "stream",
     "text": [
      "Enter the size - 2\n",
      "Enter the name - kai \n",
      "Enter the number - 987654321\n",
      "Enter the name - isa\n",
      "Enter the number - 9800000006\n",
      "{'kai ': '987654321', 'isa': '9800000006'}\n"
     ]
    }
   ],
   "source": [
    "n = int (input(\"Enter the size - \"))\n",
    "info={}\n",
    "for i in range(n):\n",
    "    name = input(\"Enter the name - \")\n",
    "    no = input(\"Enter the number - \")\n",
    "    info[name] = no\n",
    "print (info)"
   ]
  },
  {
   "cell_type": "code",
   "execution_count": 10,
   "id": "cf30b21d",
   "metadata": {},
   "outputs": [
    {
     "name": "stdout",
     "output_type": "stream",
     "text": [
      "Sneha\n",
      "Abhi\n",
      "Kai\n",
      "9812386862\n",
      "986867682\n",
      "9800070050\n",
      "('Sneha', '9812386862')\n",
      "('Abhi', '986867682')\n",
      "('Kai', '9800070050')\n"
     ]
    }
   ],
   "source": [
    "inf = {'Sneha': '9812386862', 'Abhi': '986867682', 'Kai': '9800070050'}\n",
    "for i in inf:\n",
    "    print (i)\n",
    "for i in inf.values():\n",
    "    print (i)\n",
    "for i in inf.items():\n",
    "    print (i)"
   ]
  },
  {
   "cell_type": "code",
   "execution_count": 11,
   "id": "fdbba834",
   "metadata": {},
   "outputs": [
    {
     "name": "stdout",
     "output_type": "stream",
     "text": [
      "{'Dante': 11, 'Vivan': 10}\n"
     ]
    }
   ],
   "source": [
    "v = [['Dante',11],['Vivan',10]]\n",
    "print (dict(v))"
   ]
  },
  {
   "cell_type": "code",
   "execution_count": 12,
   "id": "13b652b0",
   "metadata": {},
   "outputs": [
    {
     "name": "stdout",
     "output_type": "stream",
     "text": [
      "{'Dante': 12, 'Vivan': 10}\n"
     ]
    }
   ],
   "source": [
    "# update\n",
    "u = {'Dante': 11, 'Vivan': 10}\n",
    "u ['Dante'] = 12\n",
    "print (u)"
   ]
  },
  {
   "cell_type": "code",
   "execution_count": 13,
   "id": "eda0874e",
   "metadata": {},
   "outputs": [
    {
     "name": "stdout",
     "output_type": "stream",
     "text": [
      "{'Dante': 12}\n"
     ]
    }
   ],
   "source": [
    "# delete\n",
    "del u['Vivan']\n",
    "print (u)"
   ]
  },
  {
   "cell_type": "code",
   "execution_count": 14,
   "id": "56b371ff",
   "metadata": {},
   "outputs": [
    {
     "name": "stdout",
     "output_type": "stream",
     "text": [
      "{'Vivan': 10}\n",
      "11\n"
     ]
    }
   ],
   "source": [
    "u = {'Dante': 11, 'Vivan': 10}\n",
    "t = u. pop('Dante')\n",
    "print (u)\n",
    "print (t)"
   ]
  },
  {
   "cell_type": "code",
   "execution_count": 15,
   "id": "1e7f97e7",
   "metadata": {},
   "outputs": [
    {
     "name": "stdout",
     "output_type": "stream",
     "text": [
      "{'Sneha': '9812386862', 'Abhi': '986867682', 'Kai': ['9800070050', '9005004003']}\n"
     ]
    }
   ],
   "source": [
    "# list inside dictionary\n",
    "inf = {'Sneha': '9812386862', 'Abhi': '986867682', 'Kai': ['9800070050','9005004003']}\n",
    "print (inf)"
   ]
  },
  {
   "cell_type": "code",
   "execution_count": 16,
   "id": "74bec79e",
   "metadata": {},
   "outputs": [
    {
     "name": "stdout",
     "output_type": "stream",
     "text": [
      "Enter the size - 2\n",
      "Enter the name - rowan\n",
      "Enter the number - 987654321\n",
      "Enter the alternate number - 981234567\n",
      "Enter the name - Zahra\n",
      "Enter the number - 9080808080\n",
      "Enter the alternate number - 9767676767676\n",
      "{'rowan': ['987654321', '981234567'], 'Zahra': ['9080808080', '9767676767676']}\n"
     ]
    }
   ],
   "source": [
    "n = int (input(\"Enter the size - \"))\n",
    "info={}\n",
    "for i in range(n):\n",
    "    name = input(\"Enter the name - \")\n",
    "    no = input(\"Enter the number - \")\n",
    "    ano = input(\"Enter the alternate number - \")\n",
    "    info[name] = [no,ano]\n",
    "print (info)"
   ]
  },
  {
   "cell_type": "code",
   "execution_count": 20,
   "id": "e28dccd7",
   "metadata": {},
   "outputs": [
    {
     "name": "stdout",
     "output_type": "stream",
     "text": [
      "['9080808080', '9767676767676']\n",
      "981234567\n"
     ]
    }
   ],
   "source": [
    "print (info['Zahra'])\n",
    "print (info['rowan'][1])"
   ]
  },
  {
   "cell_type": "code",
   "execution_count": 22,
   "id": "36b49dea",
   "metadata": {},
   "outputs": [
    {
     "name": "stdout",
     "output_type": "stream",
     "text": [
      "{'Name': ['Alex', 'Ava', 'Josh', 'Jules'], 'age': ['30', '25', '27', '24'], 'occ': ['Real esate', 'Photographer', 'Doctor', 'Desginer']}\n"
     ]
    }
   ],
   "source": [
    "p = {'Name': ['Alex', 'Ava', 'Josh', 'Jules'],\n",
    "     'age':['30','25','27','24'], \n",
    "     'occ' : ['Real esate','Photographer','Doctor' ,'Desginer']}\n",
    "\n",
    "print(p)"
   ]
  },
  {
   "cell_type": "code",
   "execution_count": 26,
   "id": "4142ccc3",
   "metadata": {},
   "outputs": [
    {
     "name": "stdout",
     "output_type": "stream",
     "text": [
      "Enter the size- 2\n",
      "Enter the name - Bee\n",
      "Enter the age - 30\n",
      "Enter the address - Nasaa\n",
      "Enter the name - Levi\n",
      "Enter the age - 32\n",
      "Enter the address - Nassa\n",
      "{'Name': ['Bee', 'Levi'], 'Age': ['30', '32'], 'Add': ['Nasaa', 'Nassa']}\n"
     ]
    }
   ],
   "source": [
    "d = {'Name':[],'Age':[],'Add':[]}\n",
    "n = int(input(\"Enter the size- \"))\n",
    "for i in range(n):\n",
    "    name = input(\"Enter the name - \")\n",
    "    age = input(\"Enter the age - \")\n",
    "    add = input(\"Enter the address - \")\n",
    "    d['Name'].append(name)\n",
    "    d['Age'].append(age)\n",
    "    d['Add'].append(add)\n",
    "print (d)"
   ]
  },
  {
   "cell_type": "code",
   "execution_count": 32,
   "id": "adcf9823",
   "metadata": {},
   "outputs": [
    {
     "name": "stdout",
     "output_type": "stream",
     "text": [
      "Josh\n",
      "27\n",
      "Doctor\n"
     ]
    }
   ],
   "source": [
    "c = 0\n",
    "for i  in p['Name']:\n",
    "    if i == 'Josh':\n",
    "        print (p['Name'][c])\n",
    "        print (p['age'][c])\n",
    "        print (p['occ'][c])\n",
    "    c = c+1"
   ]
  },
  {
   "cell_type": "code",
   "execution_count": null,
   "id": "e361631c",
   "metadata": {},
   "outputs": [],
   "source": [
    "# WAP to create, read, update, and delete dict inside dict \n"
   ]
  }
 ],
 "metadata": {
  "kernelspec": {
   "display_name": "Python 3 (ipykernel)",
   "language": "python",
   "name": "python3"
  },
  "language_info": {
   "codemirror_mode": {
    "name": "ipython",
    "version": 3
   },
   "file_extension": ".py",
   "mimetype": "text/x-python",
   "name": "python",
   "nbconvert_exporter": "python",
   "pygments_lexer": "ipython3",
   "version": "3.10.9"
  }
 },
 "nbformat": 4,
 "nbformat_minor": 5
}
